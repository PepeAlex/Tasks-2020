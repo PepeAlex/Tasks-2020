{
 "cells": [
  {
   "cell_type": "markdown",
   "metadata": {},
   "source": [
    "<h1 align=\"center\">Tasks 2020</h1>"
   ]
  },
  {
   "cell_type": "markdown",
   "metadata": {},
   "source": [
    "### Institution: Galway-Mayo Institute of Technology - GMIT\n",
    "### Course: Higher Diploma in Data Analytics\n",
    "### Module: Machine Learning and Statistics\n",
    "### Author: Alexander Pepe"
   ]
  },
  {
   "cell_type": "markdown",
   "metadata": {},
   "source": [
    "    This is an activity to keep our previous knowledge up the date and improve our skill in Data Analytics. "
   ]
  },
  {
   "cell_type": "markdown",
   "metadata": {},
   "source": [
    "### First Task ### "
   ]
  },
  {
   "cell_type": "markdown",
   "metadata": {},
   "source": [
    "Write a Python function called sqrt2 that calculates and\n",
    "prints to the screen the square root of 2 to 100 decimal places."
   ]
  },
  {
   "cell_type": "code",
   "execution_count": 1,
   "metadata": {},
   "outputs": [],
   "source": [
    "x = 2"
   ]
  },
  {
   "cell_type": "code",
   "execution_count": 2,
   "metadata": {},
   "outputs": [],
   "source": [
    "a = x ** (1/2)"
   ]
  },
  {
   "cell_type": "code",
   "execution_count": 3,
   "metadata": {},
   "outputs": [
    {
     "name": "stdout",
     "output_type": "stream",
     "text": [
      "1.4142135623730951454746218587388284504413604736328125000000000000000000000000000000000000000000000000\n"
     ]
    }
   ],
   "source": [
    "print(\"%.100f\" % (a))"
   ]
  },
  {
   "cell_type": "markdown",
   "metadata": {},
   "source": [
    "The first time I used Sympy Librare with \"evalf\" thats evaluates a given numerical expression upto a given floating point precision upto 100 digits. The square root of 2 is:\n",
    "1.4142135623730950488016887242096980785696718753769480731766797379907324784621070388503875343276415727"
   ]
  },
  {
   "cell_type": "markdown",
   "metadata": {},
   "source": [
    "Following the lecture recomendation I use a simple code learnt in my first class in Higher Diploma in Data Anlytics."
   ]
  }
 ],
 "metadata": {
  "kernelspec": {
   "display_name": "Python 3",
   "language": "python",
   "name": "python3"
  },
  "language_info": {
   "codemirror_mode": {
    "name": "ipython",
    "version": 3
   },
   "file_extension": ".py",
   "mimetype": "text/x-python",
   "name": "python",
   "nbconvert_exporter": "python",
   "pygments_lexer": "ipython3",
   "version": "3.7.3"
  }
 },
 "nbformat": 4,
 "nbformat_minor": 2
}
