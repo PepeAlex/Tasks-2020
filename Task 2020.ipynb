{
 "cells": [
  {
   "cell_type": "markdown",
   "metadata": {},
   "source": [
    "<h1 align=\"center\">Tasks 2020</h1>"
   ]
  },
  {
   "cell_type": "markdown",
   "metadata": {},
   "source": [
    "### Institution: Galway-Mayo Institute of Technology - GMIT\n",
    "### Course: Higher Diploma in Data Analytics\n",
    "### Module: Machine Learning and Statistics\n",
    "### Lecturer : Ian McLoughlin\n",
    "### Author: Alexander Pepe"
   ]
  },
  {
   "cell_type": "markdown",
   "metadata": {},
   "source": [
    "    This is an activity to keep our previous knowledge up the date and improve our skill in Machine Learning and Statistic."
   ]
  },
  {
   "cell_type": "markdown",
   "metadata": {},
   "source": [
    "## First Task"
   ]
  },
  {
   "cell_type": "markdown",
   "metadata": {},
   "source": [
    "Write a Python function called sqrt2 that calculates and prints to the screen the square root of 2 to 100 decimal places."
   ]
  },
  {
   "cell_type": "code",
   "execution_count": 1,
   "metadata": {},
   "outputs": [],
   "source": [
    "x = 2"
   ]
  },
  {
   "cell_type": "code",
   "execution_count": 2,
   "metadata": {},
   "outputs": [],
   "source": [
    "a = x ** (1/2)"
   ]
  },
  {
   "cell_type": "code",
   "execution_count": 3,
   "metadata": {},
   "outputs": [
    {
     "name": "stdout",
     "output_type": "stream",
     "text": [
      "1.4142135623730951454746218587388284504413604736328125000000000000000000000000000000000000000000000000\n"
     ]
    }
   ],
   "source": [
    "print(\"%.100f\" % (a))"
   ]
  },
  {
   "cell_type": "markdown",
   "metadata": {},
   "source": [
    "The first time I used Sympy Library with \"evalf\" that's evaluates a given numerical expression up to a given floating point precision up to 100 digits. The square root of 2 is:\n",
    "1.4142135623730950488016887242096980785696718753769480731766797379907324784621070388503875343276415727"
   ]
  },
  {
   "cell_type": "markdown",
   "metadata": {},
   "source": [
    "Following the lecturer recomendation I used a simple code learnt in my first class in Higher Diploma in Data Anlytics and I found the number: 1.4142135623730951454746218587388284504413604736328125000000000000000000000000000000000000000000000000"
   ]
  },
  {
   "cell_type": "markdown",
   "metadata": {},
   "source": [
    "## Second Task"
   ]
  },
  {
   "cell_type": "markdown",
   "metadata": {},
   "source": [
    "The Chi-squared test for independence is a statistical hypothesis test like a t-test. It is used to analyse whether two categorical variables are independent. The Wikipedia article gives the table below as an example , stating the Chi-squared value based on it is approximately 24.6. Use scipy.stats to verify this value and calculate the associated p value. You should include a short note with references justifying your analysis in a markdown cell."
   ]
  },
  {
   "cell_type": "code",
   "execution_count": 4,
   "metadata": {},
   "outputs": [],
   "source": [
    "# import all libraries that will be used\n",
    "import pandas as pd \n",
    "import numpy as np\n",
    "from scipy import stats\n",
    "from scipy.stats import norm\n",
    "from scipy.stats import t\n",
    "from scipy.stats import chi2"
   ]
  },
  {
   "cell_type": "code",
   "execution_count": 5,
   "metadata": {},
   "outputs": [
    {
     "data": {
      "text/html": [
       "<div>\n",
       "<style scoped>\n",
       "    .dataframe tbody tr th:only-of-type {\n",
       "        vertical-align: middle;\n",
       "    }\n",
       "\n",
       "    .dataframe tbody tr th {\n",
       "        vertical-align: top;\n",
       "    }\n",
       "\n",
       "    .dataframe thead th {\n",
       "        text-align: right;\n",
       "    }\n",
       "</style>\n",
       "<table border=\"1\" class=\"dataframe\">\n",
       "  <thead>\n",
       "    <tr style=\"text-align: right;\">\n",
       "      <th></th>\n",
       "      <th>A</th>\n",
       "      <th>B</th>\n",
       "      <th>C</th>\n",
       "      <th>D</th>\n",
       "      <th>total</th>\n",
       "    </tr>\n",
       "  </thead>\n",
       "  <tbody>\n",
       "    <tr>\n",
       "      <th>White collar</th>\n",
       "      <td>90</td>\n",
       "      <td>60</td>\n",
       "      <td>104</td>\n",
       "      <td>95</td>\n",
       "      <td>349</td>\n",
       "    </tr>\n",
       "    <tr>\n",
       "      <th>Blue collar</th>\n",
       "      <td>30</td>\n",
       "      <td>50</td>\n",
       "      <td>51</td>\n",
       "      <td>20</td>\n",
       "      <td>151</td>\n",
       "    </tr>\n",
       "    <tr>\n",
       "      <th>No collar</th>\n",
       "      <td>30</td>\n",
       "      <td>40</td>\n",
       "      <td>45</td>\n",
       "      <td>35</td>\n",
       "      <td>150</td>\n",
       "    </tr>\n",
       "    <tr>\n",
       "      <th>Total</th>\n",
       "      <td>150</td>\n",
       "      <td>150</td>\n",
       "      <td>200</td>\n",
       "      <td>150</td>\n",
       "      <td>650</td>\n",
       "    </tr>\n",
       "  </tbody>\n",
       "</table>\n",
       "</div>"
      ],
      "text/plain": [
       "                A    B    C    D  total\n",
       "White collar   90   60  104   95    349\n",
       "Blue collar    30   50   51   20    151\n",
       "No collar      30   40   45   35    150\n",
       "Total         150  150  200  150    650"
      ]
     },
     "execution_count": 5,
     "metadata": {},
     "output_type": "execute_result"
    }
   ],
   "source": [
    "# I reproduce the Wikipedia table with columns and rows.\n",
    "task2_data = {\"A\":[90,30,30,150], \"B\":[60,50,40,150], \"C\":[104,51,45, 200], \"D\": [95, 20,35,150], \"total\":[349,151,150,650]}\n",
    "df = pd.DataFrame(task2_data, index=[\"White collar\", \"Blue collar\", \"No collar\", \"Total\"])\n",
    "df"
   ]
  },
  {
   "cell_type": "code",
   "execution_count": 6,
   "metadata": {},
   "outputs": [],
   "source": [
    "# Extract the values with new variables\n",
    "Wc = [90, 60, 104, 95]\n",
    "Bc = [30, 50, 51, 20]\n",
    "Nc = [30, 40, 45, 35]"
   ]
  },
  {
   "cell_type": "code",
   "execution_count": 7,
   "metadata": {},
   "outputs": [
    {
     "data": {
      "text/plain": [
       "array([[ 90,  60, 104,  95],\n",
       "       [ 30,  50,  51,  20],\n",
       "       [ 30,  40,  45,  35]])"
      ]
     },
     "execution_count": 7,
     "metadata": {},
     "output_type": "execute_result"
    }
   ],
   "source": [
    "task2 = np.array([Wc, Bc, Nc])\n",
    "task2"
   ]
  },
  {
   "cell_type": "code",
   "execution_count": 8,
   "metadata": {},
   "outputs": [
    {
     "data": {
      "text/plain": [
       "array([[ 80.53846154,  80.53846154, 107.38461538,  80.53846154],\n",
       "       [ 34.84615385,  34.84615385,  46.46153846,  34.84615385],\n",
       "       [ 34.61538462,  34.61538462,  46.15384615,  34.61538462]])"
      ]
     },
     "execution_count": 8,
     "metadata": {},
     "output_type": "execute_result"
    }
   ],
   "source": [
    "# This function computes the chi-square statistic for the hypothesis test\n",
    "new_task2 = stats.chi2_contingency(task2)[-1]\n",
    "new_task2\n",
    "# Output the Expect value"
   ]
  },
  {
   "cell_type": "code",
   "execution_count": 9,
   "metadata": {},
   "outputs": [
    {
     "name": "stdout",
     "output_type": "stream",
     "text": [
      "Degrees of freedom =  6\n"
     ]
    }
   ],
   "source": [
    "dof = stats.chi2_contingency(task2)[2]\n",
    "print(\"Degrees of freedom = \", dof)"
   ]
  },
  {
   "cell_type": "code",
   "execution_count": 10,
   "metadata": {},
   "outputs": [
    {
     "name": "stdout",
     "output_type": "stream",
     "text": [
      "The chi square critical is 12.592\n",
      "95.0 % of probability.\n"
     ]
    }
   ],
   "source": [
    "# Chi-Squared Percent Point Function\n",
    "\n",
    "# define probability\n",
    "p = 0.95\\\n",
    "\n",
    "# retrieve value <= probability\n",
    "value = chi2.ppf(p, dof)\n",
    "print(\"The chi square critical is %.3f\" % value)\n",
    "# confirm with cdf\n",
    "p = chi2.cdf(value, dof)\n",
    "print(p * 100, \"% of probability.\")"
   ]
  },
  {
   "cell_type": "code",
   "execution_count": 11,
   "metadata": {},
   "outputs": [
    {
     "name": "stdout",
     "output_type": "stream",
     "text": [
      "The Test Statistic is 24.57\n"
     ]
    }
   ],
   "source": [
    "chi2_stat = stats.chi2_contingency(task2)[0]\n",
    "print(\"The Test Statistic is %.2f\" % chi2_stat)"
   ]
  },
  {
   "cell_type": "code",
   "execution_count": 12,
   "metadata": {},
   "outputs": [
    {
     "name": "stdout",
     "output_type": "stream",
     "text": [
      "The p-value =  0.0004098425861096696\n",
      "Variables are not independent (reject H0)\n"
     ]
    }
   ],
   "source": [
    "p_val = stats.chi2_contingency(task2)[1]\n",
    "print(\"The p-value = \", p_val)\n",
    "\n",
    "if p_val <= p:\n",
    "    print(\"Variables are not independent (reject H0)\")\n",
    "else:\n",
    "    print(\"Variables are independent (fail to reject H0)\")"
   ]
  },
  {
   "cell_type": "markdown",
   "metadata": {},
   "source": [
    "<h4 align=\"center\">Chi square table </h4>"
   ]
  },
  {
   "cell_type": "markdown",
   "metadata": {},
   "source": [
    "![title](https://miro.medium.com/max/700/1*Y8sdezeLjSolBu8Kx0wczA.png)\n"
   ]
  },
  {
   "cell_type": "markdown",
   "metadata": {},
   "source": [
    "I described codes above to demonstrate the <i>Chi</i> <i>Square</i> <i>Test</i>. First I created a table similar to the one described on the website and plotted it on a dataframe, then extracted new variables and rearranged them with Numpy. Using the “scipy.stats” library, expected values were generated and these were organized in a new dataframe to better illustrate. After this process, the <b>degree</b> <b>of</b> <b>freedom</b> was extracted, defining the standard <b>probability</b> of 95%, thus generating a <b>T</b> <b>critical</b> of 12,592 via code, which can also be seen in the table of degrees of freedom vs alpha value. Following the use of the “scipy.stats” libary, I reached the <b>Statistical</b> <b>Test</b> value equal to 24.57, this means that the value is greater than the critical T so the samples are not denominated as equal. Finishing the code, I calculated the <b>p-value</b> and it was below the alpha value (0.05) of probability, this means that the variables are not considered independent."
   ]
  },
  {
   "cell_type": "markdown",
   "metadata": {},
   "source": [
    "<h3 align=\"center\"> Reference </h3>"
   ]
  },
  {
   "cell_type": "markdown",
   "metadata": {},
   "source": [
    "1 - Wikipedia contributors, “Chi-squared test — Wikipedia, the free encyclopedia,”\n",
    "2020, [Online; accessed 10-November-2020]. [Online]. Available: https://en.wikipedia.\n",
    "org/w/index.php?title=Chi-squared test&oldid=983024096\n",
    "\n",
    "2 - plotly | Graphing Libraries, \"T-Test in Python/v3\",  [Online; accessed 10-November-2020]. [Online]. Available: https://plotly.com/python/v3/t-test/\n",
    "\n",
    "3 - Statistic By Jim, \"Chi-Square Test of Independence and an Example\", [Online; accessed 11-November-2020]. [Online]. Available: https://statisticsbyjim.com/hypothesis-testing/chi-square-test-independence-example/#:~:text=For%20a%20Chi%2Dsquare%20test,exists%20between%20the%20categorical%20variables.\n",
    "\n",
    "4 - Investopedia, \"P-Value Definition\", [Online; accessed 11-November-2020]. [Online]. Available: https://www.investopedia.com/terms/p/p-value.asp#:~:text=A%20p%2Dvalue%20is%20a,confidence%20levels%20for%20hypothesis%20testing.\n",
    "\n",
    "5 - Scipy.org, \"Statistical functions (scipy.stats)\", [Online; accessed 16-November-2020]. [Online]. Available: https://docs.scipy.org/doc/scipy/reference/generated/scipy.stats.chi2_contingency.html\n",
    "\n",
    "6 - Statistica Show To, \"Critical Chi-Square Value: How to Find it\", [Online; accessed 19-November-2020]. [Online]. Available: https://www.statisticshowto.com/how-to-find-a-critical-chi-square-value/\n",
    "\n",
    "7 - miro.medium, \"Table\", [Online; accessed 19-November-2020]. [Online]. Available: https://miro.medium.com/max/700/1*Y8sdezeLjSolBu8Kx0wczA.png"
   ]
  },
  {
   "cell_type": "markdown",
   "metadata": {},
   "source": [
    "## Third Task"
   ]
  },
  {
   "cell_type": "markdown",
   "metadata": {},
   "source": [
    "The standard deviation of an array of numbers x is calculated using numpy as np.sqrt(np.sum((x - np.mean(x))**2)/len(x)) .\n",
    "However, Microsoft Excel has two different versions of the standard deviation calculation, STDEV.P and STDEV.S . The  STDEV.P function performs the above calculation but in the STDEV.S calculation the division is by len(x)-1 rather than len(x) . Research these Excel functions, writing a note in a Markdown cell about the difference between them. Then use numpy to perform a simulation demonstrating that the STDEV.S calculation is a better estimate for the standard deviation of a population when performed on a sample. Note that part of this task is to figure out the terminology in the previous sentence."
   ]
  },
  {
   "cell_type": "markdown",
   "metadata": {},
   "source": [
    "<h3 align=\"center\"> Standard Deviation </h3>"
   ]
  },
  {
   "cell_type": "markdown",
   "metadata": {},
   "source": [
    "The standard deviation is a statistic that measures the dispersion of a dataset relative to its mean and is calculated as the square root of the variance. The standard deviation is calculated as the square root of variance by determining each data point's deviation relative to the mean. If the data points are further from the mean, there is a higher deviation within the data set; thus, the more spread out the data, the higher the standard deviation[1]."
   ]
  },
  {
   "cell_type": "markdown",
   "metadata": {},
   "source": [
    "The formule for Standard Deviation. (Image 1)"
   ]
  },
  {
   "cell_type": "markdown",
   "metadata": {},
   "source": [
    "![title](https://encrypted-tbn0.gstatic.com/images?q=tbn:ANd9GcS3FEq3_Kz_kE1hwJgLEsKpRzrp_CYvIX9-6A&usqp=CAU)"
   ]
  },
  {
   "cell_type": "markdown",
   "metadata": {},
   "source": [
    "This is default definition of Standard Deviation, however, Microsoft Excel has two version of how to calculate it:\n",
    "        \n",
    "            - Standard Deviation Population\n",
    "            - Standard Deviation Sample"
   ]
  },
  {
   "cell_type": "markdown",
   "metadata": {},
   "source": [
    "<h3 align=\"center\"> Standard Deviation Population - STDEV.P </h3>"
   ]
  },
  {
   "cell_type": "markdown",
   "metadata": {},
   "source": [
    "STDEV.P is the measure of the spread values of the data or when the data is very large and we do not want to generalize to the total population. (Image 2)"
   ]
  },
  {
   "cell_type": "markdown",
   "metadata": {},
   "source": [
    "![title](https://encrypted-tbn0.gstatic.com/images?q=tbn:ANd9GcS3FEq3_Kz_kE1hwJgLEsKpRzrp_CYvIX9-6A&usqp=CAU)"
   ]
  },
  {
   "cell_type": "markdown",
   "metadata": {},
   "source": [
    "<h3 align=\"center\"> Standard Deviation Population - STDEV.S </h3>"
   ]
  },
  {
   "cell_type": "markdown",
   "metadata": {},
   "source": [
    "STDEV.S is a Statistical function that calculates and returns the standard deviation for a sample of data. The standard deviation is a measure of how widely values are dispersed from the average value. (Image 3)"
   ]
  },
  {
   "cell_type": "markdown",
   "metadata": {},
   "source": [
    "![title](https://www.exceltip.com/wp-content/uploads/2020/01/pasted-image-0-3.png)\n",
    "\n",
    "                                        s = sample standard deviation\n",
    "                                        Sum of = sum of...\n",
    "                                        Sample mean = sample mean\n",
    "                                        n = number of scores in sample."
   ]
  },
  {
   "cell_type": "markdown",
   "metadata": {},
   "source": [
    "(n - 1) is also partially corrects the bias in the estimation of the population standard deviation.[7]"
   ]
  },
  {
   "cell_type": "markdown",
   "metadata": {},
   "source": [
    "### Simulation STDEV.S in Numpy"
   ]
  },
  {
   "cell_type": "markdown",
   "metadata": {},
   "source": [
    "Numpy is a Python Library to adding support for large, multi-dimensional arrays and matrices, along with a large collection of high-level mathematical functions to operate on these arrays."
   ]
  },
  {
   "cell_type": "code",
   "execution_count": 13,
   "metadata": {},
   "outputs": [],
   "source": [
    "# import python library\n",
    "import numpy as np"
   ]
  },
  {
   "cell_type": "code",
   "execution_count": 14,
   "metadata": {},
   "outputs": [],
   "source": [
    "# STDEV.S Formule\n",
    "sd_1D = np.sqrt(np.sum((Wc - np.mean(Wc))**2)/(len(Wc) - 1))"
   ]
  },
  {
   "cell_type": "code",
   "execution_count": 15,
   "metadata": {},
   "outputs": [
    {
     "name": "stdout",
     "output_type": "stream",
     "text": [
      "The STDEV.S is 19.07\n",
      "The mean is 19.07\n"
     ]
    }
   ],
   "source": [
    "print(\"The STDEV.S is %.2f\" % sd_1D)\n",
    "print(\"The mean is %.2f\" % np.median(sd_1D))"
   ]
  },
  {
   "cell_type": "markdown",
   "metadata": {},
   "source": [
    "The Standard Deviation was calculated above following formula also described above for a simple array or array 1-dimensional."
   ]
  },
  {
   "cell_type": "markdown",
   "metadata": {},
   "source": [
    "Calculate from 2D array"
   ]
  },
  {
   "cell_type": "code",
   "execution_count": 16,
   "metadata": {},
   "outputs": [],
   "source": [
    "array_2d = [Wc, Bc] # I collect two samples to make an array 2-dimension"
   ]
  },
  {
   "cell_type": "code",
   "execution_count": 17,
   "metadata": {},
   "outputs": [],
   "source": [
    "# STDEV.S Formule\n",
    "sd_2D = np.sqrt(np.sum((array_2d - np.mean(array_2d))**2)/(len(array_2d) - 1))"
   ]
  },
  {
   "cell_type": "code",
   "execution_count": 18,
   "metadata": {},
   "outputs": [
    {
     "name": "stdout",
     "output_type": "stream",
     "text": [
      "The STDEV.S is 81.80\n",
      "The mean is 81.80\n"
     ]
    }
   ],
   "source": [
    "print(\"The STDEV.S is %.2f\" % sd_2D)\n",
    "print(\"The mean is %.2f\" % np.median(sd_2D))"
   ]
  },
  {
   "cell_type": "markdown",
   "metadata": {},
   "source": [
    "The numpy computing the STDEV.S for 8 integers following described above."
   ]
  },
  {
   "cell_type": "markdown",
   "metadata": {},
   "source": [
    "Calculate from 2D array by column(axis = 0)"
   ]
  },
  {
   "cell_type": "code",
   "execution_count": 19,
   "metadata": {},
   "outputs": [
    {
     "data": {
      "text/plain": [
       "array([[ 90,  60, 104,  95],\n",
       "       [ 30,  50,  51,  20],\n",
       "       [ 30,  40,  45,  35]])"
      ]
     },
     "execution_count": 19,
     "metadata": {},
     "output_type": "execute_result"
    }
   ],
   "source": [
    "# I took the array from Task 2\n",
    "task2 = np.array([Wc, Bc, Nc])\n",
    "task2"
   ]
  },
  {
   "cell_type": "code",
   "execution_count": 20,
   "metadata": {},
   "outputs": [],
   "source": [
    "# I collected the arrays by column and attribute a variable name\n",
    "column0 = np.array([task2[(0, 0)], task2[(1, 0)], task2[(2, 0)]])\n",
    "# I took the variable name and applied the STDEV.S formule for four columns\n",
    "sd_2d_col0 = np.sqrt(np.sum((column0 - np.mean(column0))**2)/(len(column0) - 1))\n",
    "\n",
    "column1 = np.array([task2[(0, 1)], task2[(1, 1)], task2[(2, 1)]])\n",
    "sd_2d_col1 = np.sqrt(np.sum((column1 - np.mean(column1))**2)/(len(column1) - 1))\n",
    "\n",
    "column2 = np.array([task2[(0, 2)], task2[(1, 2)], task2[(2, 2)]])\n",
    "sd_2d_col2 = np.sqrt(np.sum((column2 - np.mean(column2))**2)/(len(column2) - 1))\n",
    "\n",
    "column3 = np.array([task2[(0, 3)], task2[(1, 3)], task2[(2,3)]]) \n",
    "sd_2d_col3 = np.sqrt(np.sum((column3 - np.mean(column3))**2)/(len(column3) - 1))"
   ]
  },
  {
   "cell_type": "code",
   "execution_count": 21,
   "metadata": {},
   "outputs": [
    {
     "name": "stdout",
     "output_type": "stream",
     "text": [
      "The STDEV.S by Column 1 is 34.64\n",
      "The mean is 34.64\n",
      "The STDEV.S by Column 2 is 10.00\n",
      "The mean is 10.00\n",
      "The STDEV.S by Column 3 is 32.47\n",
      "The mean is 32.47\n",
      "The STDEV.S by Column 4 is 39.69\n",
      "The mean is 39.69\n"
     ]
    }
   ],
   "source": [
    "# I printed all together\n",
    "print(\"The STDEV.S by Column 1 is %.2f\" % sd_2d_col0)\n",
    "print(\"The mean is %.2f\" % np.median(sd_2d_col0))\n",
    "print(\"The STDEV.S by Column 2 is %.2f\" % sd_2d_col1)\n",
    "print(\"The mean is %.2f\" % np.median(sd_2d_col1))\n",
    "print(\"The STDEV.S by Column 3 is %.2f\" % sd_2d_col2)\n",
    "print(\"The mean is %.2f\" % np.median(sd_2d_col2))\n",
    "print(\"The STDEV.S by Column 4 is %.2f\" % sd_2d_col3)\n",
    "print(\"The mean is %.2f\" % np.median(sd_2d_col3))"
   ]
  },
  {
   "cell_type": "code",
   "execution_count": 22,
   "metadata": {},
   "outputs": [],
   "source": [
    "#  I took the variable name and applied the STDEV.S formule for three rows\n",
    "row0 = np.array([task2[(0, 0)], task2[(0, 1)], task2[(0, 2)], task2[(0, 3)]])\n",
    "sd_2d_row0 = np.sqrt(np.sum((row0 - np.mean(row0))**2)/(len(row0) - 1))\n",
    "\n",
    "row1 = np.array([task2[(1, 0)], task2[(1, 1)], task2[(1, 2)], task2[(1, 3)]])\n",
    "sd_2d_row1 = np.sqrt(np.sum((row1 - np.mean(row1))**2)/(len(row1) - 1))\n",
    "\n",
    "row2 = np.array([task2[(2, 0)], task2[(2, 1)], task2[(2, 2)], task2[(2, 3)]])\n",
    "sd_2d_row2 = np.sqrt(np.sum((row2 - np.mean(row2))**2)/(len(row2) - 1))"
   ]
  },
  {
   "cell_type": "code",
   "execution_count": 23,
   "metadata": {},
   "outputs": [
    {
     "name": "stdout",
     "output_type": "stream",
     "text": [
      "The STDEV.S by Row 1 is 19.07\n",
      "The mean is 19.07\n",
      "The STDEV.S by Row 2 is 15.28\n",
      "The mean is 15.28\n",
      "The STDEV.S by Row 3 is 6.45\n",
      "The mean is 6.45\n"
     ]
    }
   ],
   "source": [
    "# I printed all together\n",
    "print(\"The STDEV.S by Row 1 is %.2f\" % sd_2d_row0)\n",
    "print(\"The mean is %.2f\" % np.median(sd_2d_row0))\n",
    "print(\"The STDEV.S by Row 2 is %.2f\" % sd_2d_row1)\n",
    "print(\"The mean is %.2f\" % np.median(sd_2d_row1))\n",
    "print(\"The STDEV.S by Row 3 is %.2f\" % sd_2d_row2)\n",
    "print(\"The mean is %.2f\" % np.median(sd_2d_row2))"
   ]
  },
  {
   "cell_type": "markdown",
   "metadata": {},
   "source": [
    "<h3 align=\"center\"> Conclusion </h3>"
   ]
  },
  {
   "cell_type": "markdown",
   "metadata": {},
   "source": [
    "I started the Task assessment explaining Standard Deviation in general and I also explained it from the Excel view. I used some code to demonstrate how to use STDEV.S with Numpy.\n",
    "\n",
    "I did some calculation to find the Mean and the STDEV.S for each sample so I could see that the result of each one were the same. It means that the samples utilized in this activities had no spread out. Certaly, it happened because I utilized small samples. "
   ]
  },
  {
   "cell_type": "markdown",
   "metadata": {},
   "source": [
    "<h3 align=\"center\"> Reference </h3>"
   ]
  },
  {
   "cell_type": "markdown",
   "metadata": {},
   "source": [
    "1 - Investopedia, Standard Deviation Definition, [Online; accessed 24-November-2020]. Available: https://www.investopedia.com/terms/s/standarddeviation.asp\n",
    "\n",
    "2 - Image 1 and 2, [Online; accessed 24-November-2020]. Available: https://encrypted-tbn0.gstatic.com/images?q=tbn:ANd9GcS3FEq3_Kz_kE1hwJgLEsKpRzrp_CYvIX9-6A&usqp=CAU\n",
    "\n",
    "3 - Image 3, [Online; accessed 24-November-2020]. Available: https://www.exceltip.com/wp-content/uploads/2020/01/pasted-image-0-3.png\n",
    "\n",
    "4 - Laerd Statistics, Standard Deviation, [Online; accessed 26-November-2020]. Available: https://statistics.laerd.com/statistical-guides/measures-of-spread-standard-deviation.php 26/11\n",
    "\n",
    "5 - SpreadSheetWeb, Function: STDEV.S, [Online; accessed 26-November-2020]. Available: https://www.spreadsheetweb.com/excel-stdev-s-function/#:~:text=S%20(STDEV%20S)%20is%20a,%E2%80%9Cn%2D1%E2%80%9D%20method.\n",
    "\n",
    "6 - ExceTip, How to use the STDEVA Function in Excel, [Online; accessed 26-November-2020]. Available: https://www.exceltip.com/statistical-formulas/how-to-use-the-stdeva-function-in-excel.html\n",
    "\n",
    "7 - Wikipedia contributors, NumPy, [Online; accessed 27-November-2020]. Available: https://en.wikipedia.org/wiki/NumPy\n",
    "\n",
    "8 - Wikipedia contributors, Bessel's correction, [Online; accessed 27-November-2020]. Available: https://en.wikipedia.org/wiki/Bessel%27s_correction#:~:text=In%20statistics%2C%20Bessel's%20correction%20is,estimation%20of%20the%20population%20variance."
   ]
  },
  {
   "cell_type": "markdown",
   "metadata": {},
   "source": [
    "## Fourth Task"
   ]
  },
  {
   "cell_type": "markdown",
   "metadata": {},
   "source": [
    "Use scikit-learn to apply k-means clustering to Fisher’s famous Iris data set. You will easily obtain a copy of the data set online. Explain in a Markdown cell how your code works and how accurate it might be, and then explain how your model could be used to make predictions of species of iris."
   ]
  },
  {
   "cell_type": "markdown",
   "metadata": {},
   "source": [
    "I used some Python Libraries in this activity to work importing files (Pandas), work with ARRAYS (Numpy), creating plotting area (matplotlib), and for machine learn and statistical modeling (sklearn), so below I called them by Python code."
   ]
  },
  {
   "cell_type": "code",
   "execution_count": 24,
   "metadata": {},
   "outputs": [],
   "source": [
    "import pandas as pd # import library Pandas and renamed it as pd\n",
    "import numpy as np # import library Numpy and renamed it as np\n",
    "import matplotlib.pyplot as plt # import library matplotlib.pyplot and renamed it as plt\n",
    "import sklearn.cluster as skcl # import library sklearn.cluster and renamed it as skcl"
   ]
  },
  {
   "cell_type": "markdown",
   "metadata": {},
   "source": [
    "I downloaded a file called \"iris.data\" and I used Pandas library to importing it. "
   ]
  },
  {
   "cell_type": "code",
   "execution_count": 25,
   "metadata": {},
   "outputs": [
    {
     "data": {
      "text/plain": [
       "array([[4.9, 3. , 1.4, 0.2],\n",
       "       [4.7, 3.2, 1.3, 0.2],\n",
       "       [4.6, 3.1, 1.5, 0.2],\n",
       "       [5. , 3.6, 1.4, 0.2],\n",
       "       [5.4, 3.9, 1.7, 0.4],\n",
       "       [4.6, 3.4, 1.4, 0.3],\n",
       "       [5. , 3.4, 1.5, 0.2],\n",
       "       [4.4, 2.9, 1.4, 0.2],\n",
       "       [4.9, 3.1, 1.5, 0.1],\n",
       "       [5.4, 3.7, 1.5, 0.2],\n",
       "       [4.8, 3.4, 1.6, 0.2],\n",
       "       [4.8, 3. , 1.4, 0.1],\n",
       "       [4.3, 3. , 1.1, 0.1],\n",
       "       [5.8, 4. , 1.2, 0.2],\n",
       "       [5.7, 4.4, 1.5, 0.4],\n",
       "       [5.4, 3.9, 1.3, 0.4],\n",
       "       [5.1, 3.5, 1.4, 0.3],\n",
       "       [5.7, 3.8, 1.7, 0.3],\n",
       "       [5.1, 3.8, 1.5, 0.3],\n",
       "       [5.4, 3.4, 1.7, 0.2],\n",
       "       [5.1, 3.7, 1.5, 0.4],\n",
       "       [4.6, 3.6, 1. , 0.2],\n",
       "       [5.1, 3.3, 1.7, 0.5],\n",
       "       [4.8, 3.4, 1.9, 0.2],\n",
       "       [5. , 3. , 1.6, 0.2],\n",
       "       [5. , 3.4, 1.6, 0.4],\n",
       "       [5.2, 3.5, 1.5, 0.2],\n",
       "       [5.2, 3.4, 1.4, 0.2],\n",
       "       [4.7, 3.2, 1.6, 0.2],\n",
       "       [4.8, 3.1, 1.6, 0.2],\n",
       "       [5.4, 3.4, 1.5, 0.4],\n",
       "       [5.2, 4.1, 1.5, 0.1],\n",
       "       [5.5, 4.2, 1.4, 0.2],\n",
       "       [4.9, 3.1, 1.5, 0.1],\n",
       "       [5. , 3.2, 1.2, 0.2],\n",
       "       [5.5, 3.5, 1.3, 0.2],\n",
       "       [4.9, 3.1, 1.5, 0.1],\n",
       "       [4.4, 3. , 1.3, 0.2],\n",
       "       [5.1, 3.4, 1.5, 0.2],\n",
       "       [5. , 3.5, 1.3, 0.3],\n",
       "       [4.5, 2.3, 1.3, 0.3],\n",
       "       [4.4, 3.2, 1.3, 0.2],\n",
       "       [5. , 3.5, 1.6, 0.6],\n",
       "       [5.1, 3.8, 1.9, 0.4],\n",
       "       [4.8, 3. , 1.4, 0.3],\n",
       "       [5.1, 3.8, 1.6, 0.2],\n",
       "       [4.6, 3.2, 1.4, 0.2],\n",
       "       [5.3, 3.7, 1.5, 0.2],\n",
       "       [5. , 3.3, 1.4, 0.2],\n",
       "       [7. , 3.2, 4.7, 1.4],\n",
       "       [6.4, 3.2, 4.5, 1.5],\n",
       "       [6.9, 3.1, 4.9, 1.5],\n",
       "       [5.5, 2.3, 4. , 1.3],\n",
       "       [6.5, 2.8, 4.6, 1.5],\n",
       "       [5.7, 2.8, 4.5, 1.3],\n",
       "       [6.3, 3.3, 4.7, 1.6],\n",
       "       [4.9, 2.4, 3.3, 1. ],\n",
       "       [6.6, 2.9, 4.6, 1.3],\n",
       "       [5.2, 2.7, 3.9, 1.4],\n",
       "       [5. , 2. , 3.5, 1. ],\n",
       "       [5.9, 3. , 4.2, 1.5],\n",
       "       [6. , 2.2, 4. , 1. ],\n",
       "       [6.1, 2.9, 4.7, 1.4],\n",
       "       [5.6, 2.9, 3.6, 1.3],\n",
       "       [6.7, 3.1, 4.4, 1.4],\n",
       "       [5.6, 3. , 4.5, 1.5],\n",
       "       [5.8, 2.7, 4.1, 1. ],\n",
       "       [6.2, 2.2, 4.5, 1.5],\n",
       "       [5.6, 2.5, 3.9, 1.1],\n",
       "       [5.9, 3.2, 4.8, 1.8],\n",
       "       [6.1, 2.8, 4. , 1.3],\n",
       "       [6.3, 2.5, 4.9, 1.5],\n",
       "       [6.1, 2.8, 4.7, 1.2],\n",
       "       [6.4, 2.9, 4.3, 1.3],\n",
       "       [6.6, 3. , 4.4, 1.4],\n",
       "       [6.8, 2.8, 4.8, 1.4],\n",
       "       [6.7, 3. , 5. , 1.7],\n",
       "       [6. , 2.9, 4.5, 1.5],\n",
       "       [5.7, 2.6, 3.5, 1. ],\n",
       "       [5.5, 2.4, 3.8, 1.1],\n",
       "       [5.5, 2.4, 3.7, 1. ],\n",
       "       [5.8, 2.7, 3.9, 1.2],\n",
       "       [6. , 2.7, 5.1, 1.6],\n",
       "       [5.4, 3. , 4.5, 1.5],\n",
       "       [6. , 3.4, 4.5, 1.6],\n",
       "       [6.7, 3.1, 4.7, 1.5],\n",
       "       [6.3, 2.3, 4.4, 1.3],\n",
       "       [5.6, 3. , 4.1, 1.3],\n",
       "       [5.5, 2.5, 4. , 1.3],\n",
       "       [5.5, 2.6, 4.4, 1.2],\n",
       "       [6.1, 3. , 4.6, 1.4],\n",
       "       [5.8, 2.6, 4. , 1.2],\n",
       "       [5. , 2.3, 3.3, 1. ],\n",
       "       [5.6, 2.7, 4.2, 1.3],\n",
       "       [5.7, 3. , 4.2, 1.2],\n",
       "       [5.7, 2.9, 4.2, 1.3],\n",
       "       [6.2, 2.9, 4.3, 1.3],\n",
       "       [5.1, 2.5, 3. , 1.1],\n",
       "       [5.7, 2.8, 4.1, 1.3],\n",
       "       [6.3, 3.3, 6. , 2.5],\n",
       "       [5.8, 2.7, 5.1, 1.9],\n",
       "       [7.1, 3. , 5.9, 2.1],\n",
       "       [6.3, 2.9, 5.6, 1.8],\n",
       "       [6.5, 3. , 5.8, 2.2],\n",
       "       [7.6, 3. , 6.6, 2.1],\n",
       "       [4.9, 2.5, 4.5, 1.7],\n",
       "       [7.3, 2.9, 6.3, 1.8],\n",
       "       [6.7, 2.5, 5.8, 1.8],\n",
       "       [7.2, 3.6, 6.1, 2.5],\n",
       "       [6.5, 3.2, 5.1, 2. ],\n",
       "       [6.4, 2.7, 5.3, 1.9],\n",
       "       [6.8, 3. , 5.5, 2.1],\n",
       "       [5.7, 2.5, 5. , 2. ],\n",
       "       [5.8, 2.8, 5.1, 2.4],\n",
       "       [6.4, 3.2, 5.3, 2.3],\n",
       "       [6.5, 3. , 5.5, 1.8],\n",
       "       [7.7, 3.8, 6.7, 2.2],\n",
       "       [7.7, 2.6, 6.9, 2.3],\n",
       "       [6. , 2.2, 5. , 1.5],\n",
       "       [6.9, 3.2, 5.7, 2.3],\n",
       "       [5.6, 2.8, 4.9, 2. ],\n",
       "       [7.7, 2.8, 6.7, 2. ],\n",
       "       [6.3, 2.7, 4.9, 1.8],\n",
       "       [6.7, 3.3, 5.7, 2.1],\n",
       "       [7.2, 3.2, 6. , 1.8],\n",
       "       [6.2, 2.8, 4.8, 1.8],\n",
       "       [6.1, 3. , 4.9, 1.8],\n",
       "       [6.4, 2.8, 5.6, 2.1],\n",
       "       [7.2, 3. , 5.8, 1.6],\n",
       "       [7.4, 2.8, 6.1, 1.9],\n",
       "       [7.9, 3.8, 6.4, 2. ],\n",
       "       [6.4, 2.8, 5.6, 2.2],\n",
       "       [6.3, 2.8, 5.1, 1.5],\n",
       "       [6.1, 2.6, 5.6, 1.4],\n",
       "       [7.7, 3. , 6.1, 2.3],\n",
       "       [6.3, 3.4, 5.6, 2.4],\n",
       "       [6.4, 3.1, 5.5, 1.8],\n",
       "       [6. , 3. , 4.8, 1.8],\n",
       "       [6.9, 3.1, 5.4, 2.1],\n",
       "       [6.7, 3.1, 5.6, 2.4],\n",
       "       [6.9, 3.1, 5.1, 2.3],\n",
       "       [5.8, 2.7, 5.1, 1.9],\n",
       "       [6.8, 3.2, 5.9, 2.3],\n",
       "       [6.7, 3.3, 5.7, 2.5],\n",
       "       [6.7, 3. , 5.2, 2.3],\n",
       "       [6.3, 2.5, 5. , 1.9],\n",
       "       [6.5, 3. , 5.2, 2. ],\n",
       "       [6.2, 3.4, 5.4, 2.3],\n",
       "       [5.9, 3. , 5.1, 1.8]])"
      ]
     },
     "execution_count": 25,
     "metadata": {},
     "output_type": "execute_result"
    }
   ],
   "source": [
    "irisData = \"iris.data\" # File name downloaded\n",
    "dataIris = np.genfromtxt(  # Numpy library used as np\n",
    "    irisData,\n",
    "    delimiter=\",\",\n",
    "    usecols=range(0, 4),\n",
    "    skip_header=1\n",
    ")\n",
    "dataIris # print the files imported"
   ]
  },
  {
   "cell_type": "markdown",
   "metadata": {},
   "source": [
    "I started to plot all files inside \"dataIris\" and for that I adapt the code from https://github.com/ianmcloughlin/jupyter-teaching-notebooks/blob/master/kmeans-examples.ipynb"
   ]
  },
  {
   "cell_type": "code",
   "execution_count": 26,
   "metadata": {},
   "outputs": [
    {
     "data": {
      "image/png": "[encoded data removed]",
      "text/plain": [
       "<Figure size 432x288 with 1 Axes>"
      ]
     },
     "metadata": {
      "needs_background": "light"
     },
     "output_type": "display_data"
    }
   ],
   "source": [
    "plt.scatter(dataIris[:,:2], dataIris[:,2:]);"
   ]
  },
  {
   "cell_type": "markdown",
   "metadata": {},
   "source": [
    "I could see a plot and it gave to me an idea of how many clusterings are there in the data and how could be working, so I determined the number of clusters described below."
   ]
  },
  {
   "cell_type": "code",
   "execution_count": 27,
   "metadata": {},
   "outputs": [],
   "source": [
    "kmeans = skcl.KMeans(n_clusters=4, random_state=0).fit(dataIris)\n",
    "# I called the function from skcl.KMeans and I gave it the arguments to generate kmeans variable."
   ]
  },
  {
   "cell_type": "code",
   "execution_count": 28,
   "metadata": {},
   "outputs": [
    {
     "data": {
      "text/plain": [
       "array([0, 0, 0, 0, 0, 0, 0, 0, 0, 0, 0, 0, 0, 0, 0, 0, 0, 0, 0, 0, 0, 0,\n",
       "       0, 0, 0, 0, 0, 0, 0, 0, 0, 0, 0, 0, 0, 0, 0, 0, 0, 0, 0, 0, 0, 0,\n",
       "       0, 0, 0, 0, 0, 2, 2, 2, 1, 2, 1, 2, 1, 2, 1, 1, 1, 1, 2, 1, 2, 2,\n",
       "       1, 2, 1, 2, 1, 2, 2, 2, 2, 2, 2, 2, 1, 1, 1, 1, 2, 1, 2, 2, 2, 1,\n",
       "       1, 1, 2, 1, 1, 1, 1, 1, 2, 1, 1, 3, 2, 3, 3, 3, 3, 1, 3, 3, 3, 2,\n",
       "       2, 3, 2, 2, 3, 3, 3, 3, 2, 3, 2, 3, 2, 3, 3, 2, 2, 3, 3, 3, 3, 3,\n",
       "       2, 2, 3, 3, 3, 2, 3, 3, 3, 2, 3, 3, 3, 2, 2, 3, 2])"
      ]
     },
     "execution_count": 28,
     "metadata": {},
     "output_type": "execute_result"
    }
   ],
   "source": [
    "# The kmeans.labels_ showed us the points that have been clustered together. \n",
    "# According to described above the data has 4 clusters(0, 1, 2, 3).\n",
    "# This clusters value have no mathematical significance.\n",
    "kmeans.labels_\n",
    "# I printed the labels "
   ]
  },
  {
   "cell_type": "markdown",
   "metadata": {},
   "source": [
    "I splitted the dataset in two and with that I was able to work better with the data generating a presentable and better plots. The first split has sepal_length, represented for column 0 and sepal_width and the second has petal_length and petal_with represented for column 1"
   ]
  },
  {
   "cell_type": "code",
   "execution_count": 29,
   "metadata": {},
   "outputs": [
    {
     "data": {
      "image/png": "[encoded data removed]",
      "text/plain": [
       "<Figure size 432x288 with 1 Axes>"
      ]
     },
     "metadata": {
      "needs_background": "light"
     },
     "output_type": "display_data"
    }
   ],
   "source": [
    "# I plotted each kmeans.labels_ for column 0 and column 1, it were meaning sepal_length vs sepal_width and I showed the clustering of them.\n",
    "plt.plot(dataIris[kmeans.labels_ == 0][:,0], dataIris[kmeans.labels_ == 0][:,1], 'gx')\n",
    "plt.plot(dataIris[kmeans.labels_ == 1][:,0], dataIris[kmeans.labels_ == 1][:,1], 'rx')\n",
    "plt.plot(dataIris[kmeans.labels_ == 2][:,0], dataIris[kmeans.labels_ == 2][:,1], 'bx')\n",
    "plt.plot(dataIris[kmeans.labels_ == 3][:,0], dataIris[kmeans.labels_ == 3][:,1], 'yx');"
   ]
  },
  {
   "cell_type": "code",
   "execution_count": 30,
   "metadata": {},
   "outputs": [
    {
     "data": {
      "image/png": "[encoded data removed]",
      "text/plain": [
       "<Figure size 432x288 with 1 Axes>"
      ]
     },
     "metadata": {
      "needs_background": "light"
     },
     "output_type": "display_data"
    }
   ],
   "source": [
    "# I plotted each kmeans.labels_ for column 2 and column 3, it were meaning petal_length vs petal_width and I showed the clustering of them.\n",
    "plt.plot(dataIris[kmeans.labels_ == 0][:,2], dataIris[kmeans.labels_ == 0][:,3], 'go')\n",
    "plt.plot(dataIris[kmeans.labels_ == 1][:,2], dataIris[kmeans.labels_ == 1][:,3], 'ro')\n",
    "plt.plot(dataIris[kmeans.labels_ == 2][:,2], dataIris[kmeans.labels_ == 2][:,3], 'bo')\n",
    "plt.plot(dataIris[kmeans.labels_ == 3][:,2], dataIris[kmeans.labels_ == 3][:,3], 'yo');"
   ]
  },
  {
   "cell_type": "code",
   "execution_count": 31,
   "metadata": {},
   "outputs": [
    {
     "data": {
      "text/plain": [
       "array([[0, 2, 2, 3],\n",
       "       [0, 1, 2, 4]])"
      ]
     },
     "execution_count": 31,
     "metadata": {},
     "output_type": "execute_result"
    }
   ],
   "source": [
    "# I created random value.\n",
    "vals = np.array([[0, 2, 2, 3], [0, 1, 2, 4]])\n",
    "vals"
   ]
  },
  {
   "cell_type": "code",
   "execution_count": 32,
   "metadata": {},
   "outputs": [
    {
     "data": {
      "text/plain": [
       "array([0, 1])"
      ]
     },
     "execution_count": 32,
     "metadata": {},
     "output_type": "execute_result"
    }
   ],
   "source": [
    "predictions = kmeans.predict(vals)\n",
    "predictions"
   ]
  },
  {
   "cell_type": "code",
   "execution_count": 33,
   "metadata": {},
   "outputs": [
    {
     "data": {
      "image/png": "[encoded data removed]",
      "text/plain": [
       "<Figure size 432x288 with 1 Axes>"
      ]
     },
     "metadata": {
      "needs_background": "light"
     },
     "output_type": "display_data"
    }
   ],
   "source": [
    "# I plotted each kmeans.labels_ for column 0 and column 1, it were meaning sepal_length vs sepal_width and I showed the clustering of them.\n",
    "plt.plot(dataIris[kmeans.labels_ == 0][:,0], dataIris[kmeans.labels_ == 0][:,1], 'gx')\n",
    "plt.plot(dataIris[kmeans.labels_ == 1][:,0], dataIris[kmeans.labels_ == 1][:,1], 'rx')\n",
    "plt.plot(dataIris[kmeans.labels_ == 2][:,0], dataIris[kmeans.labels_ == 2][:,1], 'bx')\n",
    "plt.plot(dataIris[kmeans.labels_ == 3][:,0], dataIris[kmeans.labels_ == 3][:,1], 'yx')\n",
    "# I plotted the predict in the same plot of the data\n",
    "plt.plot(vals[predictions == 0][:,0], vals[predictions == 0][:,1], 'ko')\n",
    "plt.plot(vals[predictions == 1][:,0], vals[predictions == 1][:,1], 'ko');"
   ]
  },
  {
   "cell_type": "code",
   "execution_count": 34,
   "metadata": {},
   "outputs": [
    {
     "data": {
      "image/png": "[encoded data removed]",
      "text/plain": [
       "<Figure size 432x288 with 1 Axes>"
      ]
     },
     "metadata": {
      "needs_background": "light"
     },
     "output_type": "display_data"
    }
   ],
   "source": [
    "# I plotted each kmeans.labels_ for column 2 and column 3, it were meaning petal_length vs petal_width and I showed the clustering of them.\n",
    "plt.plot(dataIris[kmeans.labels_ == 0][:,2], dataIris[kmeans.labels_ == 0][:,3], 'go')\n",
    "plt.plot(dataIris[kmeans.labels_ == 0][:,2], dataIris[kmeans.labels_ == 0][:,3], 'go')\n",
    "plt.plot(dataIris[kmeans.labels_ == 1][:,2], dataIris[kmeans.labels_ == 1][:,3], 'ro')\n",
    "plt.plot(dataIris[kmeans.labels_ == 2][:,2], dataIris[kmeans.labels_ == 2][:,3], 'bo')\n",
    "plt.plot(dataIris[kmeans.labels_ == 3][:,2], dataIris[kmeans.labels_ == 3][:,3], 'yo')\n",
    "# I plotted the predict in the same plot of the data\n",
    "plt.plot(vals[predictions == 0][:,2], vals[predictions == 0][:,3], 'kx')\n",
    "plt.plot(vals[predictions == 1][:,2], vals[predictions == 1][:,3], 'kx');"
   ]
  },
  {
   "cell_type": "code",
   "execution_count": 35,
   "metadata": {},
   "outputs": [
    {
     "data": {
      "text/plain": [
       "array([[5.00408163, 3.41632653, 1.46530612, 0.24489796],\n",
       "       [5.52962963, 2.62222222, 3.94074074, 1.21851852],\n",
       "       [6.23658537, 2.85853659, 4.80731707, 1.62195122],\n",
       "       [6.9125    , 3.1       , 5.846875  , 2.13125   ]])"
      ]
     },
     "execution_count": 35,
     "metadata": {},
     "output_type": "execute_result"
    }
   ],
   "source": [
    "# I called the centers of the data\n",
    "cent = kmeans.cluster_centers_\n",
    "cent"
   ]
  },
  {
   "cell_type": "code",
   "execution_count": 36,
   "metadata": {},
   "outputs": [
    {
     "data": {
      "image/png": "[encoded data removed]",
      "text/plain": [
       "<Figure size 432x288 with 1 Axes>"
      ]
     },
     "metadata": {
      "needs_background": "light"
     },
     "output_type": "display_data"
    }
   ],
   "source": [
    "# I plotted each kmeans.labels_ for column 0 and column 1, it were meaning sepal_length vs sepal_width and I showed the clustering of them.\n",
    "plt.plot(dataIris[kmeans.labels_ == 0][:,0], dataIris[kmeans.labels_ == 0][:,1], 'gx')\n",
    "plt.plot(dataIris[kmeans.labels_ == 1][:,0], dataIris[kmeans.labels_ == 1][:,1], 'rx')\n",
    "plt.plot(dataIris[kmeans.labels_ == 2][:,0], dataIris[kmeans.labels_ == 2][:,1], 'bx')\n",
    "plt.plot(dataIris[kmeans.labels_ == 3][:,0], dataIris[kmeans.labels_ == 3][:,1], 'yx')\n",
    "# I plotted the predict in the same plot of the data\n",
    "plt.plot(vals[predictions == 0][:,0], vals[predictions == 0][:,1], 'ko')\n",
    "plt.plot(vals[predictions == 1][:,0], vals[predictions == 1][:,1], 'ko')\n",
    "# I pletted the centers of clusters.\n",
    "plt.plot(cent[:,0], cent[:,1], 'k^');"
   ]
  },
  {
   "cell_type": "code",
   "execution_count": 37,
   "metadata": {},
   "outputs": [
    {
     "data": {
      "image/png": "[encoded data removed]",
      "text/plain": [
       "<Figure size 432x288 with 1 Axes>"
      ]
     },
     "metadata": {
      "needs_background": "light"
     },
     "output_type": "display_data"
    }
   ],
   "source": [
    "# I plotted each kmeans.labels_ for column 2 and column 3, it were meaning petal_length vs petal_width and I showed the clustering of them.\n",
    "plt.plot(dataIris[kmeans.labels_ == 0][:,2], dataIris[kmeans.labels_ == 0][:,3], 'go')\n",
    "plt.plot(dataIris[kmeans.labels_ == 1][:,2], dataIris[kmeans.labels_ == 1][:,3], 'ro')\n",
    "plt.plot(dataIris[kmeans.labels_ == 2][:,2], dataIris[kmeans.labels_ == 2][:,3], 'bo')\n",
    "plt.plot(dataIris[kmeans.labels_ == 3][:,2], dataIris[kmeans.labels_ == 3][:,3], 'yo')\n",
    "# I plotted the predict in the same plot of the data\n",
    "plt.plot(vals[predictions == 0][:,2], vals[predictions == 0][:,3], 'kx')\n",
    "plt.plot(vals[predictions == 1][:,2], vals[predictions == 1][:,3], 'kx')\n",
    "# I pletted the centers of clusters.\n",
    "plt.plot(cent[:,2], cent[:,3], 'k^');"
   ]
  },
  {
   "cell_type": "markdown",
   "metadata": {},
   "source": [
    "<h3 align=\"center\"> Conclusion </h3>"
   ]
  },
  {
   "cell_type": "markdown",
   "metadata": {},
   "source": [
    "I splitted the data in two and I used the \"kmeans\" to manipulate each data. I could show where the centers were and I got some random number to generate the predict. In general, we could see groups of similar objects and this method can be used in many fields as marketing, bio-medical and geo-spatial."
   ]
  },
  {
   "cell_type": "markdown",
   "metadata": {},
   "source": [
    "<h3 align=\"center\"> Reference </h3>"
   ]
  },
  {
   "cell_type": "markdown",
   "metadata": {},
   "source": [
    "1 - GitHub, \"Iris Dataset\", [Online; accessed 4-December-2020]. [Online]. Available: https://gist.github.com/curran/a08a1080b88344b0c8a7\n",
    "\n",
    "2 - GitHub, \"Iris Dataset\", [Online; accessed 4-December-2020]. [Online]. Available: https://github.com/ianmcloughlin/jupyter-teaching-notebooks/blob/master/kmeans-examples.ipynb\n",
    "\n",
    "3 - Stack Abuse, \"K-Means Clustering with Scikit-Learn\", [Online; accessed 4-December-2020]. [Online]. Available: https://stackabuse.com/k-means-clustering-with-scikit-learn/\n",
    "\n",
    "4 - Data Novia, TYPES OF CLUSTERING METHODS: OVERVIEW AND QUICK START R CODE, [Online; accessed 5-December-2020]. [Online]. Available: https://www.datanovia.com/en/blog/types-of-clustering-methods-overview-and-quick-start-r-code/\n",
    "\n",
    "5 - kaggle, \"Simple K-means clustering on the Iris dataset\", [Online; accessed 5-December-2020]. [Online]. Available:https://www.kaggle.com/tonzowonzo/simple-k-means-clustering-on-the-iris-dataset\n",
    "\n",
    "6 - Python Data Science Handbook, \"In Depth: k-Means Clustering\",  [Online; accessed 6-December-2020]. [Online]. Available: https://jakevdp.github.io/PythonDataScienceHandbook/05.11-k-means.html"
   ]
  }
 ],
 "metadata": {
  "kernelspec": {
   "display_name": "Python 3",
   "language": "python",
   "name": "python3"
  },
  "language_info": {
   "codemirror_mode": {
    "name": "ipython",
    "version": 3
   },
   "file_extension": ".py",
   "mimetype": "text/x-python",
   "name": "python",
   "nbconvert_exporter": "python",
   "pygments_lexer": "ipython3",
   "version": "3.8.3"
  }
 },
 "nbformat": 4,
 "nbformat_minor": 4
}
