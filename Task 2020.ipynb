{
 "cells": [
  {
   "cell_type": "markdown",
   "metadata": {},
   "source": [
    "<h1 align=\"center\">Tasks 2020</h1>"
   ]
  },
  {
   "cell_type": "markdown",
   "metadata": {},
   "source": [
    "### Institution: Galway-Mayo Institute of Technology - GMIT\n",
    "### Course: Higher Diploma in Data Analytics\n",
    "### Module: Machine Learning and Statistics\n",
    "### Lecturer : Ian McLoughlin\n",
    "### Author: Alexander Pepe"
   ]
  },
  {
   "cell_type": "markdown",
   "metadata": {},
   "source": [
    "    This is an activity to keep our previous knowledge up the date and improve our skill in Machine Learning and Statistic."
   ]
  },
  {
   "cell_type": "markdown",
   "metadata": {},
   "source": [
    "## First Task"
   ]
  },
  {
   "cell_type": "markdown",
   "metadata": {},
   "source": [
    "Write a Python function called sqrt2 that calculates and prints to the screen the square root of 2 to 100 decimal places."
   ]
  },
  {
   "cell_type": "code",
   "execution_count": 1,
   "metadata": {},
   "outputs": [],
   "source": [
    "x = 2"
   ]
  },
  {
   "cell_type": "code",
   "execution_count": 2,
   "metadata": {},
   "outputs": [],
   "source": [
    "a = x ** (1/2)"
   ]
  },
  {
   "cell_type": "code",
   "execution_count": 3,
   "metadata": {},
   "outputs": [
    {
     "name": "stdout",
     "output_type": "stream",
     "text": [
      "1.4142135623730951454746218587388284504413604736328125000000000000000000000000000000000000000000000000\n"
     ]
    }
   ],
   "source": [
    "print(\"%.100f\" % (a))"
   ]
  },
  {
   "cell_type": "markdown",
   "metadata": {},
   "source": [
    "The first time I used Sympy Library with \"evalf\" that's evaluates a given numerical expression up to a given floating point precision up to 100 digits. The square root of 2 is:\n",
    "1.4142135623730950488016887242096980785696718753769480731766797379907324784621070388503875343276415727"
   ]
  },
  {
   "cell_type": "markdown",
   "metadata": {},
   "source": [
    "Following the lecturer recomendation I used a simple code learnt in my first class in Higher Diploma in Data Anlytics and I found the number: 1.4142135623730951454746218587388284504413604736328125000000000000000000000000000000000000000000000000"
   ]
  },
  {
   "cell_type": "markdown",
   "metadata": {},
   "source": [
    "## Second Task"
   ]
  },
  {
   "cell_type": "markdown",
   "metadata": {},
   "source": [
    "The Chi-squared test for independence is a statistical hypothesis test like a t-test. It is used to analyse whether two categorical variables are independent. The Wikipedia article gives the table below as an example , stating the Chi-squared value based on it is approximately 24.6. Use scipy.stats to verify this value and calculate the associated p value. You should include a short note with references justifying your analysis in a markdown cell."
   ]
  },
  {
   "cell_type": "code",
   "execution_count": 4,
   "metadata": {},
   "outputs": [],
   "source": [
    "# import all libraries that will be used\n",
    "import pandas as pd \n",
    "import numpy as np\n",
    "from scipy import stats\n",
    "from scipy.stats import norm\n",
    "from scipy.stats import t\n",
    "from scipy.stats import chi2"
   ]
  },
  {
   "cell_type": "code",
   "execution_count": 5,
   "metadata": {},
   "outputs": [
    {
     "data": {
      "text/html": [
       "<div>\n",
       "<style scoped>\n",
       "    .dataframe tbody tr th:only-of-type {\n",
       "        vertical-align: middle;\n",
       "    }\n",
       "\n",
       "    .dataframe tbody tr th {\n",
       "        vertical-align: top;\n",
       "    }\n",
       "\n",
       "    .dataframe thead th {\n",
       "        text-align: right;\n",
       "    }\n",
       "</style>\n",
       "<table border=\"1\" class=\"dataframe\">\n",
       "  <thead>\n",
       "    <tr style=\"text-align: right;\">\n",
       "      <th></th>\n",
       "      <th>A</th>\n",
       "      <th>B</th>\n",
       "      <th>C</th>\n",
       "      <th>D</th>\n",
       "      <th>total</th>\n",
       "    </tr>\n",
       "  </thead>\n",
       "  <tbody>\n",
       "    <tr>\n",
       "      <th>White collar</th>\n",
       "      <td>90</td>\n",
       "      <td>60</td>\n",
       "      <td>104</td>\n",
       "      <td>95</td>\n",
       "      <td>349</td>\n",
       "    </tr>\n",
       "    <tr>\n",
       "      <th>Blue collar</th>\n",
       "      <td>30</td>\n",
       "      <td>50</td>\n",
       "      <td>51</td>\n",
       "      <td>20</td>\n",
       "      <td>151</td>\n",
       "    </tr>\n",
       "    <tr>\n",
       "      <th>No collar</th>\n",
       "      <td>30</td>\n",
       "      <td>40</td>\n",
       "      <td>45</td>\n",
       "      <td>35</td>\n",
       "      <td>150</td>\n",
       "    </tr>\n",
       "    <tr>\n",
       "      <th>Total</th>\n",
       "      <td>150</td>\n",
       "      <td>150</td>\n",
       "      <td>200</td>\n",
       "      <td>150</td>\n",
       "      <td>650</td>\n",
       "    </tr>\n",
       "  </tbody>\n",
       "</table>\n",
       "</div>"
      ],
      "text/plain": [
       "                A    B    C    D  total\n",
       "White collar   90   60  104   95    349\n",
       "Blue collar    30   50   51   20    151\n",
       "No collar      30   40   45   35    150\n",
       "Total         150  150  200  150    650"
      ]
     },
     "execution_count": 5,
     "metadata": {},
     "output_type": "execute_result"
    }
   ],
   "source": [
    "# I reproduce the Wikipedia table with columns and rows.\n",
    "task2_data = {\"A\":[90,30,30,150], \"B\":[60,50,40,150], \"C\":[104,51,45, 200], \"D\": [95, 20,35,150], \"total\":[349,151,150,650]}\n",
    "df = pd.DataFrame(task2_data, index=[\"White collar\", \"Blue collar\", \"No collar\", \"Total\"])\n",
    "df"
   ]
  },
  {
   "cell_type": "code",
   "execution_count": 6,
   "metadata": {},
   "outputs": [],
   "source": [
    "# Extract the values with new variables\n",
    "Wc = [90, 60, 104, 95]\n",
    "Bc = [30, 50, 51, 20]\n",
    "Nc = [30, 40, 45, 35]"
   ]
  },
  {
   "cell_type": "code",
   "execution_count": 7,
   "metadata": {},
   "outputs": [
    {
     "data": {
      "text/plain": [
       "array([[ 90,  60, 104,  95],\n",
       "       [ 30,  50,  51,  20],\n",
       "       [ 30,  40,  45,  35]])"
      ]
     },
     "execution_count": 7,
     "metadata": {},
     "output_type": "execute_result"
    }
   ],
   "source": [
    "task2 = np.array([Wc, Bc, Nc])\n",
    "task2"
   ]
  },
  {
   "cell_type": "code",
   "execution_count": 8,
   "metadata": {},
   "outputs": [
    {
     "data": {
      "text/plain": [
       "array([[ 80.53846154,  80.53846154, 107.38461538,  80.53846154],\n",
       "       [ 34.84615385,  34.84615385,  46.46153846,  34.84615385],\n",
       "       [ 34.61538462,  34.61538462,  46.15384615,  34.61538462]])"
      ]
     },
     "execution_count": 8,
     "metadata": {},
     "output_type": "execute_result"
    }
   ],
   "source": [
    "# This function computes the chi-square statistic for the hypothesis test\n",
    "new_task2 = stats.chi2_contingency(task2)[-1]\n",
    "new_task2\n",
    "# Output the Expect value"
   ]
  },
  {
   "cell_type": "code",
   "execution_count": 9,
   "metadata": {},
   "outputs": [
    {
     "name": "stdout",
     "output_type": "stream",
     "text": [
      "Degrees of freedom =  6\n"
     ]
    }
   ],
   "source": [
    "dof = stats.chi2_contingency(task2)[2]\n",
    "print(\"Degrees of freedom = \", dof)"
   ]
  },
  {
   "cell_type": "code",
   "execution_count": 10,
   "metadata": {},
   "outputs": [
    {
     "name": "stdout",
     "output_type": "stream",
     "text": [
      "The chi square critical is 12.592\n",
      "95.0 % of probability.\n"
     ]
    }
   ],
   "source": [
    "# Chi-Squared Percent Point Function\n",
    "\n",
    "# define probability\n",
    "p = 0.95\\\n",
    "\n",
    "# retrieve value <= probability\n",
    "value = chi2.ppf(p, dof)\n",
    "print(\"The chi square critical is %.3f\" % value)\n",
    "# confirm with cdf\n",
    "p = chi2.cdf(value, dof)\n",
    "print(p * 100, \"% of probability.\")"
   ]
  },
  {
   "cell_type": "code",
   "execution_count": 11,
   "metadata": {},
   "outputs": [
    {
     "name": "stdout",
     "output_type": "stream",
     "text": [
      "The Test Statistic is 24.57\n"
     ]
    }
   ],
   "source": [
    "chi2_stat = stats.chi2_contingency(task2)[0]\n",
    "print(\"The Test Statistic is %.2f\" % chi2_stat)"
   ]
  },
  {
   "cell_type": "code",
   "execution_count": 12,
   "metadata": {},
   "outputs": [
    {
     "name": "stdout",
     "output_type": "stream",
     "text": [
      "The p-value =  0.0004098425861096696\n",
      "Variables are not independent (reject H0)\n"
     ]
    }
   ],
   "source": [
    "p_val = stats.chi2_contingency(task2)[1]\n",
    "print(\"The p-value = \", p_val)\n",
    "\n",
    "if p_val <= p:\n",
    "    print(\"Variables are not independent (reject H0)\")\n",
    "else:\n",
    "    print(\"Variables are independent (fail to reject H0)\")"
   ]
  },
  {
   "cell_type": "markdown",
   "metadata": {},
   "source": [
    "<h4 align=\"center\">Chi square table </h4>"
   ]
  },
  {
   "cell_type": "markdown",
   "metadata": {},
   "source": [
    "![title](https://miro.medium.com/max/700/1*Y8sdezeLjSolBu8Kx0wczA.png)\n"
   ]
  },
  {
   "cell_type": "markdown",
   "metadata": {},
   "source": [
    "I described codes above to demonstrate the <i>Chi</i> <i>Square</i> <i>Test</i>. First I created a table similar to the one described on the website and plotted it on a dataframe, then extracted new variables and rearranged them with Numpy. Using the “scipy.stats” library, expected values were generated and these were organized in a new dataframe to better illustrate. After this process, the <b>degree</b> <b>of</b> <b>freedom</b> was extracted, defining the standard <b>probability</b> of 95%, thus generating a <b>T</b> <b>critical</b> of 12,592 via code, which can also be seen in the table of degrees of freedom vs alpha value. Following the use of the “scipy.stats” libary, I reached the <b>Statistical</b> <b>Test</b> value equal to 24.57, this means that the value is greater than the critical T so the samples are not denominated as equal. Finishing the code, I calculated the <b>p-value</b> and it was below the alpha value (0.05) of probability, this means that the variables are not considered independent."
   ]
  },
  {
   "cell_type": "markdown",
   "metadata": {},
   "source": [
    "<h3 align=\"center\"> Reference </h3>"
   ]
  },
  {
   "cell_type": "markdown",
   "metadata": {},
   "source": [
    "1 - Wikipedia contributors, “Chi-squared test — Wikipedia, the free encyclopedia,”\n",
    "2020, [Online; accessed 10-November-2020]. [Online]. Available: https://en.wikipedia.\n",
    "org/w/index.php?title=Chi-squared test&oldid=983024096\n",
    "\n",
    "2 - plotly | Graphing Libraries, \"T-Test in Python/v3\",  [Online; accessed 10-November-2020]. [Online]. Available: https://plotly.com/python/v3/t-test/\n",
    "\n",
    "3 - Statistic By Jim, \"Chi-Square Test of Independence and an Example\", [Online; accessed 11-November-2020]. [Online]. Available: https://statisticsbyjim.com/hypothesis-testing/chi-square-test-independence-example/#:~:text=For%20a%20Chi%2Dsquare%20test,exists%20between%20the%20categorical%20variables.\n",
    "\n",
    "4 - Investopedia, \"P-Value Definition\", [Online; accessed 11-November-2020]. [Online]. Available: https://www.investopedia.com/terms/p/p-value.asp#:~:text=A%20p%2Dvalue%20is%20a,confidence%20levels%20for%20hypothesis%20testing.\n",
    "\n",
    "5 - Scipy.org, \"Statistical functions (scipy.stats)\", [Online; accessed 16-November-2020]. [Online]. Available: https://docs.scipy.org/doc/scipy/reference/generated/scipy.stats.chi2_contingency.html\n",
    "\n",
    "6 - Statistica Show To, \"Critical Chi-Square Value: How to Find it\", [Online; accessed 19-November-2020]. [Online]. Available: https://www.statisticshowto.com/how-to-find-a-critical-chi-square-value/\n",
    "\n",
    "7 - miro.medium, \"Table\", [Online; accessed 19-November-2020]. [Online]. Available: https://miro.medium.com/max/700/1*Y8sdezeLjSolBu8Kx0wczA.png"
   ]
  },
  {
   "cell_type": "markdown",
   "metadata": {},
   "source": [
    "## Third Task"
   ]
  },
  {
   "cell_type": "markdown",
   "metadata": {},
   "source": [
    "The standard deviation of an array of numbers x is calculated using numpy as np.sqrt(np.sum((x - np.mean(x))**2)/len(x)) .\n",
    "However, Microsoft Excel has two different versions of the standard deviation calculation, STDEV.P and STDEV.S . The  STDEV.P function performs the above calculation but in the STDEV.S calculation the division is by len(x)-1 rather than len(x) . Research these Excel functions, writing a note in a Markdown cell about the difference between them. Then use numpy to perform a simulation demonstrating that the STDEV.S calculation is a better estimate for the standard deviation of a population when performed on a sample. Note that part of this task is to figure out the terminology in the previous sentence."
   ]
  },
  {
   "cell_type": "markdown",
   "metadata": {},
   "source": [
    "<h3 align=\"center\"> Standard Deviation </h3>"
   ]
  },
  {
   "cell_type": "markdown",
   "metadata": {},
   "source": [
    "The standard deviation is a statistic that measures the dispersion of a dataset relative to its mean and is calculated as the square root of the variance. The standard deviation is calculated as the square root of variance by determining each data point's deviation relative to the mean. If the data points are further from the mean, there is a higher deviation within the data set; thus, the more spread out the data, the higher the standard deviation[1]."
   ]
  },
  {
   "cell_type": "markdown",
   "metadata": {},
   "source": [
    "The formule for Standard Deviation. (Image 1)"
   ]
  },
  {
   "cell_type": "markdown",
   "metadata": {},
   "source": [
    "![title](https://encrypted-tbn0.gstatic.com/images?q=tbn:ANd9GcS3FEq3_Kz_kE1hwJgLEsKpRzrp_CYvIX9-6A&usqp=CAU)"
   ]
  },
  {
   "cell_type": "markdown",
   "metadata": {},
   "source": [
    "This is default definition of Standard Deviation, however, Microsoft Excel has two version of how to calculate it:\n",
    "        \n",
    "            - Standard Deviation Population\n",
    "            - Standard Deviation Sample"
   ]
  },
  {
   "cell_type": "markdown",
   "metadata": {},
   "source": [
    "<h3 align=\"center\"> Standard Deviation Population - STDEV.P </h3>"
   ]
  },
  {
   "cell_type": "markdown",
   "metadata": {},
   "source": [
    "STDEV.P is the measure of the spread values of the data or when the data is very large and we do not want to generalize to the total population. (Image 2)"
   ]
  },
  {
   "cell_type": "markdown",
   "metadata": {},
   "source": [
    "![title](https://encrypted-tbn0.gstatic.com/images?q=tbn:ANd9GcS3FEq3_Kz_kE1hwJgLEsKpRzrp_CYvIX9-6A&usqp=CAU)"
   ]
  },
  {
   "cell_type": "markdown",
   "metadata": {},
   "source": [
    "<h3 align=\"center\"> Standard Deviation Population - STDEV.S </h3>"
   ]
  },
  {
   "cell_type": "markdown",
   "metadata": {},
   "source": [
    "STDEV.S is a Statistical function that calculates and returns the standard deviation for a sample of data. The standard deviation is a measure of how widely values are dispersed from the average value. (Image 3)"
   ]
  },
  {
   "cell_type": "markdown",
   "metadata": {},
   "source": [
    "![title](https://www.exceltip.com/wp-content/uploads/2020/01/pasted-image-0-3.png)\n",
    "\n",
    "                                        s = sample standard deviation\n",
    "                                        Sum of = sum of...\n",
    "                                        Sample mean = sample mean\n",
    "                                        n = number of scores in sample."
   ]
  },
  {
   "cell_type": "markdown",
   "metadata": {},
   "source": [
    "(n - 1) is also partially corrects the bias in the estimation of the population standard deviation.[7]"
   ]
  },
  {
   "cell_type": "markdown",
   "metadata": {},
   "source": [
    "### Simulation STDEV.S in Numpy"
   ]
  },
  {
   "cell_type": "markdown",
   "metadata": {},
   "source": [
    "Numpy is a Python Library to adding support for large, multi-dimensional arrays and matrices, along with a large collection of high-level mathematical functions to operate on these arrays."
   ]
  },
  {
   "cell_type": "code",
   "execution_count": 13,
   "metadata": {},
   "outputs": [],
   "source": [
    "# import python library\n",
    "import numpy as np"
   ]
  },
  {
   "cell_type": "code",
   "execution_count": 14,
   "metadata": {},
   "outputs": [],
   "source": [
    "# STDEV.S Formule\n",
    "sd_1D = np.sqrt(np.sum((Wc - np.mean(Wc))**2)/(len(Wc) - 1))"
   ]
  },
  {
   "cell_type": "code",
   "execution_count": 15,
   "metadata": {},
   "outputs": [
    {
     "name": "stdout",
     "output_type": "stream",
     "text": [
      "The STDEV.S is 19.07\n",
      "The mean is 19.07\n"
     ]
    }
   ],
   "source": [
    "print(\"The STDEV.S is %.2f\" % sd_1D)\n",
    "print(\"The mean is %.2f\" % np.median(sd_1D))"
   ]
  },
  {
   "cell_type": "markdown",
   "metadata": {},
   "source": [
    "The Standard Deviation was calculated above following formula also described above for a simple array or array 1-dimensional."
   ]
  },
  {
   "cell_type": "markdown",
   "metadata": {},
   "source": [
    "Calculate from 2D array"
   ]
  },
  {
   "cell_type": "code",
   "execution_count": 16,
   "metadata": {},
   "outputs": [],
   "source": [
    "array_2d = [Wc, Bc] # I collect two samples to make an array 2-dimension"
   ]
  },
  {
   "cell_type": "code",
   "execution_count": 17,
   "metadata": {},
   "outputs": [],
   "source": [
    "# STDEV.S Formule\n",
    "sd_2D = np.sqrt(np.sum((array_2d - np.mean(array_2d))**2)/(len(array_2d) - 1))"
   ]
  },
  {
   "cell_type": "code",
   "execution_count": 18,
   "metadata": {},
   "outputs": [
    {
     "name": "stdout",
     "output_type": "stream",
     "text": [
      "The STDEV.S is 81.80\n",
      "The mean is 81.80\n"
     ]
    }
   ],
   "source": [
    "print(\"The STDEV.S is %.2f\" % sd_2D)\n",
    "print(\"The mean is %.2f\" % np.median(sd_2D))"
   ]
  },
  {
   "cell_type": "markdown",
   "metadata": {},
   "source": [
    "The numpy computing the STDEV.S for 8 integers following described above."
   ]
  },
  {
   "cell_type": "markdown",
   "metadata": {},
   "source": [
    "Calculate from 2D array by column(axis = 0)"
   ]
  },
  {
   "cell_type": "code",
   "execution_count": 19,
   "metadata": {},
   "outputs": [
    {
     "data": {
      "text/plain": [
       "array([[ 90,  60, 104,  95],\n",
       "       [ 30,  50,  51,  20],\n",
       "       [ 30,  40,  45,  35]])"
      ]
     },
     "execution_count": 19,
     "metadata": {},
     "output_type": "execute_result"
    }
   ],
   "source": [
    "# I took the array from Task 2\n",
    "task2 = np.array([Wc, Bc, Nc])\n",
    "task2"
   ]
  },
  {
   "cell_type": "code",
   "execution_count": 20,
   "metadata": {},
   "outputs": [],
   "source": [
    "# I collected the arrays by column and attribute a variable name\n",
    "column0 = np.array([task2[(0, 0)], task2[(1, 0)], task2[(2, 0)]])\n",
    "# I took the variable name and applied the STDEV.S formule for four columns\n",
    "sd_2d_col0 = np.sqrt(np.sum((column0 - np.mean(column0))**2)/(len(column0) - 1))\n",
    "\n",
    "column1 = np.array([task2[(0, 1)], task2[(1, 1)], task2[(2, 1)]])\n",
    "sd_2d_col1 = np.sqrt(np.sum((column1 - np.mean(column1))**2)/(len(column1) - 1))\n",
    "\n",
    "column2 = np.array([task2[(0, 2)], task2[(1, 2)], task2[(2, 2)]])\n",
    "sd_2d_col2 = np.sqrt(np.sum((column2 - np.mean(column2))**2)/(len(column2) - 1))\n",
    "\n",
    "column3 = np.array([task2[(0, 3)], task2[(1, 3)], task2[(2,3)]]) \n",
    "sd_2d_col3 = np.sqrt(np.sum((column3 - np.mean(column3))**2)/(len(column3) - 1))"
   ]
  },
  {
   "cell_type": "code",
   "execution_count": 21,
   "metadata": {},
   "outputs": [
    {
     "name": "stdout",
     "output_type": "stream",
     "text": [
      "The STDEV.S by Column 1 is 34.64\n",
      "The mean is 34.64\n",
      "The STDEV.S by Column 2 is 10.00\n",
      "The mean is 10.00\n",
      "The STDEV.S by Column 3 is 32.47\n",
      "The mean is 32.47\n",
      "The STDEV.S by Column 4 is 39.69\n",
      "The mean is 39.69\n"
     ]
    }
   ],
   "source": [
    "# I printed all together\n",
    "print(\"The STDEV.S by Column 1 is %.2f\" % sd_2d_col0)\n",
    "print(\"The mean is %.2f\" % np.median(sd_2d_col0))\n",
    "print(\"The STDEV.S by Column 2 is %.2f\" % sd_2d_col1)\n",
    "print(\"The mean is %.2f\" % np.median(sd_2d_col1))\n",
    "print(\"The STDEV.S by Column 3 is %.2f\" % sd_2d_col2)\n",
    "print(\"The mean is %.2f\" % np.median(sd_2d_col2))\n",
    "print(\"The STDEV.S by Column 4 is %.2f\" % sd_2d_col3)\n",
    "print(\"The mean is %.2f\" % np.median(sd_2d_col3))"
   ]
  },
  {
   "cell_type": "code",
   "execution_count": 22,
   "metadata": {},
   "outputs": [],
   "source": [
    "#  I took the variable name and applied the STDEV.S formule for three rows\n",
    "row0 = np.array([task2[(0, 0)], task2[(0, 1)], task2[(0, 2)], task2[(0, 3)]])\n",
    "sd_2d_row0 = np.sqrt(np.sum((row0 - np.mean(row0))**2)/(len(row0) - 1))\n",
    "\n",
    "row1 = np.array([task2[(1, 0)], task2[(1, 1)], task2[(1, 2)], task2[(1, 3)]])\n",
    "sd_2d_row1 = np.sqrt(np.sum((row1 - np.mean(row1))**2)/(len(row1) - 1))\n",
    "\n",
    "row2 = np.array([task2[(2, 0)], task2[(2, 1)], task2[(2, 2)], task2[(2, 3)]])\n",
    "sd_2d_row2 = np.sqrt(np.sum((row2 - np.mean(row2))**2)/(len(row2) - 1))"
   ]
  },
  {
   "cell_type": "code",
   "execution_count": 23,
   "metadata": {},
   "outputs": [
    {
     "name": "stdout",
     "output_type": "stream",
     "text": [
      "The STDEV.S by Row 1 is 19.07\n",
      "The mean is 19.07\n",
      "The STDEV.S by Row 2 is 15.28\n",
      "The mean is 15.28\n",
      "The STDEV.S by Row 3 is 6.45\n",
      "The mean is 6.45\n"
     ]
    }
   ],
   "source": [
    "# I printed all together\n",
    "print(\"The STDEV.S by Row 1 is %.2f\" % sd_2d_row0)\n",
    "print(\"The mean is %.2f\" % np.median(sd_2d_row0))\n",
    "print(\"The STDEV.S by Row 2 is %.2f\" % sd_2d_row1)\n",
    "print(\"The mean is %.2f\" % np.median(sd_2d_row1))\n",
    "print(\"The STDEV.S by Row 3 is %.2f\" % sd_2d_row2)\n",
    "print(\"The mean is %.2f\" % np.median(sd_2d_row2))"
   ]
  },
  {
   "cell_type": "markdown",
   "metadata": {},
   "source": [
    "<h3 align=\"center\"> Conclusion </h3>"
   ]
  },
  {
   "cell_type": "markdown",
   "metadata": {},
   "source": [
    "I started the Task assessment explaining Standard Deviation in general and I also explained it from the Excel view. I used some code to demonstrate how to use STDEV.S with Numpy.\n",
    "\n",
    "I did some calculation to find the Mean and the STDEV.S for each sample so I could see that the result of each one were the same. It means that the samples utilized in this activities had no spread out. Certaly, it happened because I utilized small samples. "
   ]
  },
  {
   "cell_type": "markdown",
   "metadata": {},
   "source": [
    "<h3 align=\"center\"> Reference </h3>"
   ]
  },
  {
   "cell_type": "markdown",
   "metadata": {},
   "source": [
    "1 - Investopedia, Standard Deviation Definition, [Online; accessed 24-November-2020]. Available: https://www.investopedia.com/terms/s/standarddeviation.asp\n",
    "\n",
    "2 - Image 1 and 2, [Online; accessed 24-November-2020]. Available: https://encrypted-tbn0.gstatic.com/images?q=tbn:ANd9GcS3FEq3_Kz_kE1hwJgLEsKpRzrp_CYvIX9-6A&usqp=CAU\n",
    "\n",
    "3 - Image 3, [Online; accessed 24-November-2020]. Available: https://www.exceltip.com/wp-content/uploads/2020/01/pasted-image-0-3.png\n",
    "\n",
    "4 - Laerd Statistics, Standard Deviation, [Online; accessed 26-November-2020]. Available: https://statistics.laerd.com/statistical-guides/measures-of-spread-standard-deviation.php 26/11\n",
    "\n",
    "5 - SpreadSheetWeb, Function: STDEV.S, [Online; accessed 26-November-2020]. Available: https://www.spreadsheetweb.com/excel-stdev-s-function/#:~:text=S%20(STDEV%20S)%20is%20a,%E2%80%9Cn%2D1%E2%80%9D%20method.\n",
    "\n",
    "6 - ExceTip, How to use the STDEVA Function in Excel, [Online; accessed 26-November-2020]. Available: https://www.exceltip.com/statistical-formulas/how-to-use-the-stdeva-function-in-excel.html\n",
    "\n",
    "7 - Wikipedia contributors, NumPy, [Online; accessed 27-November-2020]. Available: https://en.wikipedia.org/wiki/NumPy\n",
    "\n",
    "8 - Wikipedia contributors, Bessel's correction, [Online; accessed 27-November-2020]. Available: https://en.wikipedia.org/wiki/Bessel%27s_correction#:~:text=In%20statistics%2C%20Bessel's%20correction%20is,estimation%20of%20the%20population%20variance."
   ]
  },
  {
   "cell_type": "markdown",
   "metadata": {},
   "source": [
    "## Fourth Task"
   ]
  },
  {
   "cell_type": "markdown",
   "metadata": {},
   "source": [
    "Use scikit-learn to apply k Nearest Neighbours clustering to Fisher’s famous Iris data set. You will easily obtain a copy of the data set online. Explain in a Markdown cell how your code works and how accurate it might be, and then explain how your model could be used to make predictions of species of iris."
   ]
  },
  {
   "cell_type": "markdown",
   "metadata": {},
   "source": [
    "The K-nearest neighbors(k-NN) is a non-parametric machine learning, which means that it doesn't assume anything about the underlying data. It is extremely easy to implement in its basic form, and yet performs complex classification.  It is used for classification and regression. In both cases, the input consists of the k closest training examples in feature space.\n",
    "\n",
    "k-NN is a type of instance-based learning, or lazy learning, where the function is only approximated locally and all computation is deferred until function evaluation. Since this algorithm relies on distance for classification, if the features represent different physical units or come in vastly different scales then normalizing the training data can improve its accuracy dramatically.\n",
    "\n",
    "It work calculating the distance of a new data point to all other training data points. It then selects the K-nearest data points, where K can be any integer. Finally it assigns the data point to the class to which the majority of the K data points belong."
   ]
  },
  {
   "cell_type": "markdown",
   "metadata": {},
   "source": [
    "I used some Python Libraries in this activity to work importing files (Pandas), work with ARRAYS (Numpy), creating plotting area (matplotlib), and for machine learn and statistical modeling (sklearn), so below I called them by Python code."
   ]
  },
  {
   "cell_type": "code",
   "execution_count": 24,
   "metadata": {},
   "outputs": [],
   "source": [
    "import pandas as pd # import library Pandas and renamed it as pd\n",
    "import numpy as np # import library Numpy and renamed it as np\n",
    "import matplotlib.pyplot as plt # import library matplotlib.pyplot and renamed it as plt\n",
    "# import some of sklearn libraries.\n",
    "from sklearn.linear_model import LogisticRegression\n",
    "from sklearn import metrics\n",
    "from sklearn.neighbors import KNeighborsClassifier\n",
    "from sklearn.model_selection import train_test_split\n",
    "from sklearn.metrics import classification_report, confusion_matrix\n",
    "from sklearn.datasets import load_iris"
   ]
  },
  {
   "cell_type": "code",
   "execution_count": 25,
   "metadata": {},
   "outputs": [],
   "source": [
    "iris = load_iris()\n",
    "# determine the axis in relation with the data\n",
    "X = iris.data\n",
    "y = iris.target"
   ]
  },
  {
   "cell_type": "code",
   "execution_count": 26,
   "metadata": {},
   "outputs": [
    {
     "name": "stderr",
     "output_type": "stream",
     "text": [
      "C:\\ProgramData\\Anaconda3\\lib\\site-packages\\sklearn\\linear_model\\_logistic.py:762: ConvergenceWarning: lbfgs failed to converge (status=1):\n",
      "STOP: TOTAL NO. of ITERATIONS REACHED LIMIT.\n",
      "\n",
      "Increase the number of iterations (max_iter) or scale the data as shown in:\n",
      "    https://scikit-learn.org/stable/modules/preprocessing.html\n",
      "Please also refer to the documentation for alternative solver options:\n",
      "    https://scikit-learn.org/stable/modules/linear_model.html#logistic-regression\n",
      "  n_iter_i = _check_optimize_result(\n"
     ]
    },
    {
     "data": {
      "text/plain": [
       "array([0, 0, 0, 0, 0, 0, 0, 0, 0, 0, 0, 0, 0, 0, 0, 0, 0, 0, 0, 0, 0, 0,\n",
       "       0, 0, 0, 0, 0, 0, 0, 0, 0, 0, 0, 0, 0, 0, 0, 0, 0, 0, 0, 0, 0, 0,\n",
       "       0, 0, 0, 0, 0, 0, 1, 1, 1, 1, 1, 1, 1, 1, 1, 1, 1, 1, 1, 1, 1, 1,\n",
       "       1, 1, 1, 1, 2, 1, 1, 1, 1, 1, 1, 2, 1, 1, 1, 1, 1, 2, 1, 1, 1, 1,\n",
       "       1, 1, 1, 1, 1, 1, 1, 1, 1, 1, 1, 1, 2, 2, 2, 2, 2, 2, 1, 2, 2, 2,\n",
       "       2, 2, 2, 2, 2, 2, 2, 2, 2, 2, 2, 2, 2, 2, 2, 2, 2, 2, 2, 2, 2, 2,\n",
       "       2, 2, 2, 2, 2, 2, 2, 2, 2, 2, 2, 2, 2, 2, 2, 2, 2, 2])"
      ]
     },
     "execution_count": 26,
     "metadata": {},
     "output_type": "execute_result"
    }
   ],
   "source": [
    "# I used Logistic Regression to predict the response values in X, so I fitted the model\n",
    "logreg = LogisticRegression()\n",
    "logreg.fit(X, y)\n",
    "logreg.predict(X)"
   ]
  },
  {
   "cell_type": "code",
   "execution_count": 27,
   "metadata": {},
   "outputs": [
    {
     "data": {
      "text/plain": [
       "150"
      ]
     },
     "execution_count": 27,
     "metadata": {},
     "output_type": "execute_result"
    }
   ],
   "source": [
    "# store the predicted response values\n",
    "y_pred = logreg.predict(X)\n",
    "\n",
    "# confirm if your predictions following the data samples\n",
    "len(y_pred)"
   ]
  },
  {
   "cell_type": "code",
   "execution_count": 28,
   "metadata": {},
   "outputs": [
    {
     "data": {
      "text/plain": [
       "0.9733333333333334"
      ]
     },
     "execution_count": 28,
     "metadata": {},
     "output_type": "execute_result"
    }
   ],
   "source": [
    "# call the accuracy classification with regression model\n",
    "metrics.accuracy_score(y, y_pred)"
   ]
  },
  {
   "cell_type": "code",
   "execution_count": 29,
   "metadata": {},
   "outputs": [
    {
     "data": {
      "text/plain": [
       "0.96"
      ]
     },
     "execution_count": 29,
     "metadata": {},
     "output_type": "execute_result"
    }
   ],
   "source": [
    "# Calculate the accuracy on my training data and determine n_neighbors = 4\n",
    "knn = KNeighborsClassifier(n_neighbors=4)\n",
    "knn.fit(X, y)\n",
    "y_pred = knn.predict(X)\n",
    "metrics.accuracy_score(y, y_pred)"
   ]
  },
  {
   "cell_type": "code",
   "execution_count": 30,
   "metadata": {},
   "outputs": [
    {
     "data": {
      "text/plain": [
       "1.0"
      ]
     },
     "execution_count": 30,
     "metadata": {},
     "output_type": "execute_result"
    }
   ],
   "source": [
    "# Calculate the accuracy with another n_neighbors value\n",
    "knn = KNeighborsClassifier(n_neighbors=1)\n",
    "knn.fit(X, y)\n",
    "y_pred = knn.predict(X)\n",
    "metrics.accuracy_score(y, y_pred)"
   ]
  },
  {
   "cell_type": "code",
   "execution_count": 31,
   "metadata": {},
   "outputs": [
    {
     "name": "stdout",
     "output_type": "stream",
     "text": [
      "(150, 4)\n",
      "(150,)\n"
     ]
    }
   ],
   "source": [
    "# X is our features matrix with 150 x 4 dimension\n",
    "print(X.shape)\n",
    "# y is our response vector with 150 x 1 dimension\n",
    "print(y.shape)"
   ]
  },
  {
   "cell_type": "code",
   "execution_count": 32,
   "metadata": {},
   "outputs": [],
   "source": [
    "# Generate the training and testing sets\n",
    "X_train, X_test, y_train, y_test = train_test_split(X, y, test_size=0.2, random_state=2)"
   ]
  },
  {
   "cell_type": "code",
   "execution_count": 33,
   "metadata": {},
   "outputs": [
    {
     "name": "stdout",
     "output_type": "stream",
     "text": [
      "(120, 4)\n",
      "(30, 4)\n"
     ]
    }
   ],
   "source": [
    "# News shapes to compare above\n",
    "print(X_train.shape)\n",
    "print(X_test.shape)"
   ]
  },
  {
   "cell_type": "code",
   "execution_count": 34,
   "metadata": {},
   "outputs": [
    {
     "data": {
      "text/plain": [
       "LogisticRegression()"
      ]
     },
     "execution_count": 34,
     "metadata": {},
     "output_type": "execute_result"
    }
   ],
   "source": [
    "# train the model on the training set\n",
    "logreg = LogisticRegression()\n",
    "logreg.fit(X_train, y_train)"
   ]
  },
  {
   "cell_type": "code",
   "execution_count": 35,
   "metadata": {},
   "outputs": [
    {
     "name": "stdout",
     "output_type": "stream",
     "text": [
      "0.9666666666666667\n"
     ]
    }
   ],
   "source": [
    "# make predictions on the testing set\n",
    "y_pred = logreg.predict(X_test)\n",
    "\n",
    "# compare values (y_test) with values (y_pred)\n",
    "print(metrics.accuracy_score(y_test, y_pred))"
   ]
  },
  {
   "cell_type": "code",
   "execution_count": 36,
   "metadata": {},
   "outputs": [
    {
     "name": "stdout",
     "output_type": "stream",
     "text": [
      "0.9666666666666667\n"
     ]
    }
   ],
   "source": [
    "# Calculate the accuracy on my prediction data and determine n_neighbors = 10\n",
    "knn = KNeighborsClassifier(n_neighbors=10)\n",
    "knn.fit(X_train, y_train)\n",
    "y_pred = knn.predict(X_test)\n",
    "print(metrics.accuracy_score(y_test, y_pred))"
   ]
  },
  {
   "cell_type": "code",
   "execution_count": 37,
   "metadata": {},
   "outputs": [
    {
     "name": "stdout",
     "output_type": "stream",
     "text": [
      "1.0\n"
     ]
    }
   ],
   "source": [
    "# Calculate the prediction accuracy with another n_neighbors value\n",
    "knn = KNeighborsClassifier(n_neighbors=5)\n",
    "knn.fit(X_train, y_train)\n",
    "y_pred = knn.predict(X_test)\n",
    "print(metrics.accuracy_score(y_test, y_pred))"
   ]
  },
  {
   "cell_type": "code",
   "execution_count": 38,
   "metadata": {},
   "outputs": [
    {
     "name": "stdout",
     "output_type": "stream",
     "text": [
      "[1.0, 1.0, 1.0, 1.0, 1.0, 1.0, 0.9666666666666667, 0.9666666666666667, 0.9666666666666667, 0.9666666666666667, 0.9666666666666667, 0.9666666666666667, 0.9666666666666667, 0.9666666666666667, 0.9666666666666667, 0.9666666666666667, 0.9666666666666667, 0.9666666666666667, 0.9666666666666667, 0.9666666666666667, 0.9666666666666667, 0.9666666666666667, 0.9666666666666667, 0.9666666666666667, 0.9666666666666667]\n"
     ]
    }
   ],
   "source": [
    "# try K=1 through K=25 and record testing accuracy\n",
    "k_range = range(1, 26)\n",
    "\n",
    "# We can create Python dictionary using [] or dict()\n",
    "scores = []\n",
    "\n",
    "# We use a loop through the range 1 to 26\n",
    "# We append the scores in the dictionary\n",
    "for k in k_range:\n",
    "    knn = KNeighborsClassifier(n_neighbors=k)\n",
    "    knn.fit(X_train, y_train)\n",
    "    y_pred = knn.predict(X_test)\n",
    "    scores.append(metrics.accuracy_score(y_test, y_pred))\n",
    "\n",
    "print(scores)"
   ]
  },
  {
   "cell_type": "code",
   "execution_count": 39,
   "metadata": {},
   "outputs": [
    {
     "data": {
      "image/png": "[encoded data removed]",
      "text/plain": [
       "<Figure size 432x288 with 1 Axes>"
      ]
     },
     "metadata": {
      "needs_background": "light"
     },
     "output_type": "display_data"
    }
   ],
   "source": [
    "# plot the relationship between K and testing accuracy\n",
    "plt.plot(k_range, scores)\n",
    "plt.xlabel('Value of K for KNN')\n",
    "plt.ylabel('Testing Accuracy');"
   ]
  },
  {
   "cell_type": "code",
   "execution_count": 40,
   "metadata": {},
   "outputs": [
    {
     "name": "stdout",
     "output_type": "stream",
     "text": [
      "[[14  0  0]\n",
      " [ 0  7  1]\n",
      " [ 0  0  8]]\n",
      "              precision    recall  f1-score   support\n",
      "\n",
      "           0       1.00      1.00      1.00        14\n",
      "           1       1.00      0.88      0.93         8\n",
      "           2       0.89      1.00      0.94         8\n",
      "\n",
      "    accuracy                           0.97        30\n",
      "   macro avg       0.96      0.96      0.96        30\n",
      "weighted avg       0.97      0.97      0.97        30\n",
      "\n"
     ]
    }
   ],
   "source": [
    "# printed the classification report \n",
    "print(confusion_matrix(y_test, y_pred))\n",
    "print(classification_report(y_test, y_pred))"
   ]
  },
  {
   "cell_type": "code",
   "execution_count": 41,
   "metadata": {},
   "outputs": [],
   "source": [
    "error = []\n",
    "\n",
    "# Calculating error for K values between 1 and 40\n",
    "for i in range(1, 40):\n",
    "    knn = KNeighborsClassifier(n_neighbors=i)\n",
    "    knn.fit(X_train, y_train)\n",
    "    pred_i = knn.predict(X_test)\n",
    "    error.append(np.mean(pred_i != y_test))"
   ]
  },
  {
   "cell_type": "code",
   "execution_count": 42,
   "metadata": {},
   "outputs": [
    {
     "data": {
      "image/png": "[encoded data removed]",
      "text/plain": [
       "<Figure size 864x432 with 1 Axes>"
      ]
     },
     "metadata": {
      "needs_background": "light"
     },
     "output_type": "display_data"
    }
   ],
   "source": [
    "plt.figure(figsize=(12, 6))\n",
    "plt.plot(range(1, 40), error, color='red', linestyle='dashed', marker='o',\n",
    "         markerfacecolor='blue', markersize=10)\n",
    "plt.title('Error Rate K Value')\n",
    "plt.xlabel('K Value')\n",
    "plt.ylabel('Mean Error');"
   ]
  },
  {
   "cell_type": "markdown",
   "metadata": {},
   "source": [
    "<h3 align=\"center\"> Conclusion </h3>"
   ]
  },
  {
   "cell_type": "markdown",
   "metadata": {},
   "source": [
    "KNN is a simple yet powerful classification algorithm. It requires no training for making predictions, which is typically one of the most difficult parts of a machine learning algorithm. The KNN algorithm have been widely used to find document similarity and pattern recognition. It has also been employed for developing recommender systems and for dimensionality reduction and pre-processing steps for computer vision, particularly face recognition tasks.\n",
    "\n",
    "I describe some of steps together to the code to clarify the idea, but this would always have 100% accuracy, because we are testing on the exact same data, it would always make correct predictions. I splited the data in 80% of observation to \"training set\" and 20% of observation to \"testing set\", then I calculated \"testing accuracy\" to better estimate the training accuracy of out-of-sample performance. I plotted the classification report that gives a deeper intuition of the classifier behavior over global accuracy.\n",
    "\n",
    "Finally, I used Error Rate to showed us the best K value, so for that I plot the mean error for the predicted values of test set for all the K values between 1 and 40. "
   ]
  },
  {
   "cell_type": "markdown",
   "metadata": {},
   "source": [
    "<h3 align=\"center\"> Reference </h3>"
   ]
  },
  {
   "cell_type": "markdown",
   "metadata": {},
   "source": [
    "1 - Wikipedia contributors, k-nearest neighbors algorithm, [Online; accessed December-2020]. Available: https://en.wikipedia.org/wiki/K-nearest_neighbors_algorithm\n",
    "    \n",
    "2 - Stack Abuse, K-Nearest Neighbors Algorithm in Python and Scikit-Learn, [Online; December-2020]. [Online]. Available: https://www.ritchieng.com/machine-learning-k-nearest-neighbors-knn/\n",
    "        \n",
    "3 - Ritchie Ng, K-nearest Neighbors (KNN) Classification Model, [Online; December-2020]. [Online]. Available: https://www.ritchieng.com/machine-learning-k-nearest-neighbors-knn/\n",
    "        \n",
    "4 - edpresso, Using the k-nearest neighbors algorithm in Python, [Online; December-2020]. [Online]. Available: https://www.educative.io/edpresso/using-the-k-nearest-neighbors-algorithm-in-python"
   ]
  }
 ],
 "metadata": {
  "kernelspec": {
   "display_name": "Python 3",
   "language": "python",
   "name": "python3"
  },
  "language_info": {
   "codemirror_mode": {
    "name": "ipython",
    "version": 3
   },
   "file_extension": ".py",
   "mimetype": "text/x-python",
   "name": "python",
   "nbconvert_exporter": "python",
   "pygments_lexer": "ipython3",
   "version": "3.8.3"
  }
 },
 "nbformat": 4,
 "nbformat_minor": 4
}
